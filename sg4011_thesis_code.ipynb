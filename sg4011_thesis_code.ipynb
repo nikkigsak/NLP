{
 "cells": [
  {
   "cell_type": "code",
   "execution_count": 1,
   "id": "a28ba691",
   "metadata": {
    "scrolled": true
   },
   "outputs": [
    {
     "data": {
      "text/html": [
       "<div>\n",
       "<style scoped>\n",
       "    .dataframe tbody tr th:only-of-type {\n",
       "        vertical-align: middle;\n",
       "    }\n",
       "\n",
       "    .dataframe tbody tr th {\n",
       "        vertical-align: top;\n",
       "    }\n",
       "\n",
       "    .dataframe thead th {\n",
       "        text-align: right;\n",
       "    }\n",
       "</style>\n",
       "<table border=\"1\" class=\"dataframe\">\n",
       "  <thead>\n",
       "    <tr style=\"text-align: right;\">\n",
       "      <th></th>\n",
       "      <th>_id</th>\n",
       "      <th>business_id</th>\n",
       "      <th>review_id</th>\n",
       "      <th>stars</th>\n",
       "      <th>text</th>\n",
       "      <th>user_id</th>\n",
       "    </tr>\n",
       "  </thead>\n",
       "  <tbody>\n",
       "    <tr>\n",
       "      <th>0</th>\n",
       "      <td>623b3ab4258609f2a4f766ea</td>\n",
       "      <td>XQfwVwDr-v0ZS3_CbbE5Xw</td>\n",
       "      <td>KU_O5udG6zpxOg-VcAEodg</td>\n",
       "      <td>3</td>\n",
       "      <td>If you decide to eat here, just be aware it is...</td>\n",
       "      <td>mh_-eMZ6K5RLWhZyISBhwA</td>\n",
       "    </tr>\n",
       "    <tr>\n",
       "      <th>1</th>\n",
       "      <td>623b3ab4258609f2a4f766eb</td>\n",
       "      <td>7ATYjTIgM3jUlt4UM3IypQ</td>\n",
       "      <td>BiTunyQ73aT9WBnpR9DZGw</td>\n",
       "      <td>5</td>\n",
       "      <td>I've taken a lot of spin classes over the year...</td>\n",
       "      <td>OyoGAe7OKpv6SyGZT5g77Q</td>\n",
       "    </tr>\n",
       "    <tr>\n",
       "      <th>2</th>\n",
       "      <td>623b3ab4258609f2a4f766ec</td>\n",
       "      <td>YjUWPpI6HXG530lwP-fb2A</td>\n",
       "      <td>saUsX_uimxRlCVr67Z4Jig</td>\n",
       "      <td>3</td>\n",
       "      <td>Family diner. Had the buffet. Eclectic assortm...</td>\n",
       "      <td>8g_iMtfSiwikVnbP2etR0A</td>\n",
       "    </tr>\n",
       "    <tr>\n",
       "      <th>3</th>\n",
       "      <td>623b3ab4258609f2a4f766ed</td>\n",
       "      <td>kxX2SOes4o-D3ZQBkiMRfA</td>\n",
       "      <td>AqPFMleE6RsU23_auESxiA</td>\n",
       "      <td>5</td>\n",
       "      <td>Wow!  Yummy, different,  delicious.   Our favo...</td>\n",
       "      <td>_7bHUi9Uuf5__HHc_Q8guQ</td>\n",
       "    </tr>\n",
       "    <tr>\n",
       "      <th>4</th>\n",
       "      <td>623b3ab4258609f2a4f766ee</td>\n",
       "      <td>e4Vwtrqf-wpJfwesgvdgxQ</td>\n",
       "      <td>Sx8TMOWLNuJBWer-0pcmoA</td>\n",
       "      <td>4</td>\n",
       "      <td>Cute interior and owner (?) gave us tour of up...</td>\n",
       "      <td>bcjbaE6dDog4jkNY91ncLQ</td>\n",
       "    </tr>\n",
       "  </tbody>\n",
       "</table>\n",
       "</div>"
      ],
      "text/plain": [
       "                        _id             business_id               review_id  \\\n",
       "0  623b3ab4258609f2a4f766ea  XQfwVwDr-v0ZS3_CbbE5Xw  KU_O5udG6zpxOg-VcAEodg   \n",
       "1  623b3ab4258609f2a4f766eb  7ATYjTIgM3jUlt4UM3IypQ  BiTunyQ73aT9WBnpR9DZGw   \n",
       "2  623b3ab4258609f2a4f766ec  YjUWPpI6HXG530lwP-fb2A  saUsX_uimxRlCVr67Z4Jig   \n",
       "3  623b3ab4258609f2a4f766ed  kxX2SOes4o-D3ZQBkiMRfA  AqPFMleE6RsU23_auESxiA   \n",
       "4  623b3ab4258609f2a4f766ee  e4Vwtrqf-wpJfwesgvdgxQ  Sx8TMOWLNuJBWer-0pcmoA   \n",
       "\n",
       "   stars                                               text  \\\n",
       "0      3  If you decide to eat here, just be aware it is...   \n",
       "1      5  I've taken a lot of spin classes over the year...   \n",
       "2      3  Family diner. Had the buffet. Eclectic assortm...   \n",
       "3      5  Wow!  Yummy, different,  delicious.   Our favo...   \n",
       "4      4  Cute interior and owner (?) gave us tour of up...   \n",
       "\n",
       "                  user_id  \n",
       "0  mh_-eMZ6K5RLWhZyISBhwA  \n",
       "1  OyoGAe7OKpv6SyGZT5g77Q  \n",
       "2  8g_iMtfSiwikVnbP2etR0A  \n",
       "3  _7bHUi9Uuf5__HHc_Q8guQ  \n",
       "4  bcjbaE6dDog4jkNY91ncLQ  "
      ]
     },
     "execution_count": 1,
     "metadata": {},
     "output_type": "execute_result"
    }
   ],
   "source": [
    "import pandas as pd\n",
    "\n",
    "## load reviews dataset \n",
    "reviews = pd.read_csv(r'/Users/nikkigerjarusak/desktop/ThesisPython/reviews.csv')\n",
    "reviews.head(5)"
   ]
  },
  {
   "cell_type": "code",
   "execution_count": 2,
   "id": "c008df71",
   "metadata": {},
   "outputs": [],
   "source": [
    "## getting just text and star ratings\n",
    "text_stars = reviews[[\"text\", \"stars\"]]"
   ]
  },
  {
   "cell_type": "code",
   "execution_count": 3,
   "id": "4a91ac9d",
   "metadata": {
    "scrolled": true
   },
   "outputs": [
    {
     "data": {
      "text/html": [
       "<div>\n",
       "<style scoped>\n",
       "    .dataframe tbody tr th:only-of-type {\n",
       "        vertical-align: middle;\n",
       "    }\n",
       "\n",
       "    .dataframe tbody tr th {\n",
       "        vertical-align: top;\n",
       "    }\n",
       "\n",
       "    .dataframe thead th {\n",
       "        text-align: right;\n",
       "    }\n",
       "</style>\n",
       "<table border=\"1\" class=\"dataframe\">\n",
       "  <thead>\n",
       "    <tr style=\"text-align: right;\">\n",
       "      <th></th>\n",
       "      <th>text</th>\n",
       "      <th>stars</th>\n",
       "    </tr>\n",
       "  </thead>\n",
       "  <tbody>\n",
       "    <tr>\n",
       "      <th>0</th>\n",
       "      <td>If you decide to eat here, just be aware it is...</td>\n",
       "      <td>3</td>\n",
       "    </tr>\n",
       "    <tr>\n",
       "      <th>1</th>\n",
       "      <td>I've taken a lot of spin classes over the year...</td>\n",
       "      <td>5</td>\n",
       "    </tr>\n",
       "    <tr>\n",
       "      <th>2</th>\n",
       "      <td>Family diner. Had the buffet. Eclectic assortm...</td>\n",
       "      <td>3</td>\n",
       "    </tr>\n",
       "    <tr>\n",
       "      <th>3</th>\n",
       "      <td>Wow!  Yummy, different,  delicious.   Our favo...</td>\n",
       "      <td>5</td>\n",
       "    </tr>\n",
       "    <tr>\n",
       "      <th>4</th>\n",
       "      <td>Cute interior and owner (?) gave us tour of up...</td>\n",
       "      <td>4</td>\n",
       "    </tr>\n",
       "  </tbody>\n",
       "</table>\n",
       "</div>"
      ],
      "text/plain": [
       "                                                text  stars\n",
       "0  If you decide to eat here, just be aware it is...      3\n",
       "1  I've taken a lot of spin classes over the year...      5\n",
       "2  Family diner. Had the buffet. Eclectic assortm...      3\n",
       "3  Wow!  Yummy, different,  delicious.   Our favo...      5\n",
       "4  Cute interior and owner (?) gave us tour of up...      4"
      ]
     },
     "execution_count": 3,
     "metadata": {},
     "output_type": "execute_result"
    }
   ],
   "source": [
    "text_stars.head(5)"
   ]
  },
  {
   "cell_type": "code",
   "execution_count": 152,
   "id": "72790dae",
   "metadata": {},
   "outputs": [
    {
     "name": "stdout",
     "output_type": "stream",
     "text": [
      "                        _id             business_id               review_id  \\\n",
      "0  623b3ab4258609f2a4f766ea  XQfwVwDr-v0ZS3_CbbE5Xw  KU_O5udG6zpxOg-VcAEodg   \n",
      "\n",
      "   stars                                               text  \\\n",
      "0      3  If you decide to eat here, just be aware it is...   \n",
      "\n",
      "                  user_id  \n",
      "0  mh_-eMZ6K5RLWhZyISBhwA  \n"
     ]
    }
   ],
   "source": [
    "print(reviews.loc[[0]])"
   ]
  },
  {
   "cell_type": "code",
   "execution_count": 4,
   "id": "32131665",
   "metadata": {
    "scrolled": true
   },
   "outputs": [
    {
     "data": {
      "text/plain": [
       "text     6990280\n",
       "stars    6990280\n",
       "dtype: int64"
      ]
     },
     "execution_count": 4,
     "metadata": {},
     "output_type": "execute_result"
    }
   ],
   "source": [
    "text_stars.count()"
   ]
  },
  {
   "cell_type": "code",
   "execution_count": 142,
   "id": "98e318f0",
   "metadata": {},
   "outputs": [
    {
     "data": {
      "text/html": [
       "<div>\n",
       "<style scoped>\n",
       "    .dataframe tbody tr th:only-of-type {\n",
       "        vertical-align: middle;\n",
       "    }\n",
       "\n",
       "    .dataframe tbody tr th {\n",
       "        vertical-align: top;\n",
       "    }\n",
       "\n",
       "    .dataframe thead th {\n",
       "        text-align: right;\n",
       "    }\n",
       "</style>\n",
       "<table border=\"1\" class=\"dataframe\">\n",
       "  <thead>\n",
       "    <tr style=\"text-align: right;\">\n",
       "      <th></th>\n",
       "      <th>stars</th>\n",
       "    </tr>\n",
       "  </thead>\n",
       "  <tbody>\n",
       "    <tr>\n",
       "      <th>count</th>\n",
       "      <td>6.990280e+06</td>\n",
       "    </tr>\n",
       "    <tr>\n",
       "      <th>mean</th>\n",
       "      <td>3.748584e+00</td>\n",
       "    </tr>\n",
       "    <tr>\n",
       "      <th>std</th>\n",
       "      <td>1.478705e+00</td>\n",
       "    </tr>\n",
       "    <tr>\n",
       "      <th>min</th>\n",
       "      <td>1.000000e+00</td>\n",
       "    </tr>\n",
       "    <tr>\n",
       "      <th>25%</th>\n",
       "      <td>3.000000e+00</td>\n",
       "    </tr>\n",
       "    <tr>\n",
       "      <th>50%</th>\n",
       "      <td>4.000000e+00</td>\n",
       "    </tr>\n",
       "    <tr>\n",
       "      <th>75%</th>\n",
       "      <td>5.000000e+00</td>\n",
       "    </tr>\n",
       "    <tr>\n",
       "      <th>max</th>\n",
       "      <td>5.000000e+00</td>\n",
       "    </tr>\n",
       "  </tbody>\n",
       "</table>\n",
       "</div>"
      ],
      "text/plain": [
       "              stars\n",
       "count  6.990280e+06\n",
       "mean   3.748584e+00\n",
       "std    1.478705e+00\n",
       "min    1.000000e+00\n",
       "25%    3.000000e+00\n",
       "50%    4.000000e+00\n",
       "75%    5.000000e+00\n",
       "max    5.000000e+00"
      ]
     },
     "execution_count": 142,
     "metadata": {},
     "output_type": "execute_result"
    }
   ],
   "source": [
    "text_stars.describe()"
   ]
  },
  {
   "cell_type": "markdown",
   "id": "18891556",
   "metadata": {},
   "source": [
    "there are 6,990,280 reviews included in that dataset"
   ]
  },
  {
   "cell_type": "markdown",
   "id": "ee146471",
   "metadata": {},
   "source": [
    "mean star rating = 3.75 (pretty high)\n",
    "std = 1.48\n",
    "min = 1.00\n",
    "max = 5.00 \n",
    "25% quartile = 3.00\n",
    "50% quartile = 4.00\n",
    "75% quartile = 5.00 "
   ]
  },
  {
   "cell_type": "code",
   "execution_count": 141,
   "id": "91d529aa",
   "metadata": {
    "scrolled": true
   },
   "outputs": [
    {
     "data": {
      "text/plain": [
       "<seaborn.axisgrid.FacetGrid at 0x7f999c332520>"
      ]
     },
     "execution_count": 141,
     "metadata": {},
     "output_type": "execute_result"
    },
    {
     "data": {
      "image/png": "[encoded data removed]",
      "text/plain": [
       "<Figure size 360x360 with 1 Axes>"
      ]
     },
     "metadata": {},
     "output_type": "display_data"
    }
   ],
   "source": [
    "import seaborn as sns\n",
    "import matplotlib.pyplot as plt\n",
    "\n",
    "sns.displot(text_stars, x = \"stars\", bins = 9)"
   ]
  },
  {
   "cell_type": "markdown",
   "id": "98d0c8ae",
   "metadata": {},
   "source": [
    "Star ratings here are integers, meaning that they rounded up the half star ratings, which explains why the mean is high. We can see that there are mostly 5.0 star reviews (or 4.5 stars rounded up). Since the mode is so high, I assume that more people are inclined to give good reviews in this dataset. "
   ]
  },
  {
   "cell_type": "code",
   "execution_count": 5,
   "id": "46dae0a5",
   "metadata": {},
   "outputs": [],
   "source": [
    "data = text_stars.drop(range(20001, 6990280))"
   ]
  },
  {
   "cell_type": "code",
   "execution_count": 2,
   "id": "ddf24f34",
   "metadata": {},
   "outputs": [],
   "source": [
    "sample_data = reviews.drop(range(300, 6990280))"
   ]
  },
  {
   "cell_type": "code",
   "execution_count": 3,
   "id": "47ae6876",
   "metadata": {
    "scrolled": true
   },
   "outputs": [
    {
     "data": {
      "text/plain": [
       "_id            300\n",
       "business_id    300\n",
       "review_id      300\n",
       "stars          300\n",
       "text           300\n",
       "user_id        300\n",
       "dtype: int64"
      ]
     },
     "execution_count": 3,
     "metadata": {},
     "output_type": "execute_result"
    }
   ],
   "source": [
    "sample_data.count()"
   ]
  },
  {
   "cell_type": "code",
   "execution_count": 11,
   "id": "ea3f6964",
   "metadata": {},
   "outputs": [
    {
     "data": {
      "text/plain": [
       "'/Users/nikkigerjarusak/Desktop/ThesisPython'"
      ]
     },
     "execution_count": 11,
     "metadata": {},
     "output_type": "execute_result"
    }
   ],
   "source": [
    "import os\n",
    "os.getcwd()"
   ]
  },
  {
   "cell_type": "code",
   "execution_count": null,
   "id": "8033b867",
   "metadata": {},
   "outputs": [],
   "source": []
  },
  {
   "cell_type": "code",
   "execution_count": 10,
   "id": "125cd5b2",
   "metadata": {},
   "outputs": [
    {
     "ename": "IsADirectoryError",
     "evalue": "[Errno 21] Is a directory: '/Users/nikkigerjarusak/desktop/'",
     "output_type": "error",
     "traceback": [
      "\u001b[0;31m---------------------------------------------------------------------------\u001b[0m",
      "\u001b[0;31mIsADirectoryError\u001b[0m                         Traceback (most recent call last)",
      "\u001b[0;32m<ipython-input-10-43b956479646>\u001b[0m in \u001b[0;36m<module>\u001b[0;34m\u001b[0m\n\u001b[0;32m----> 1\u001b[0;31m \u001b[0msample_data\u001b[0m\u001b[0;34m.\u001b[0m\u001b[0mto_csv\u001b[0m\u001b[0;34m(\u001b[0m\u001b[0;34mr'/Users/nikkigerjarusak/desktop/'\u001b[0m\u001b[0;34m)\u001b[0m\u001b[0;34m\u001b[0m\u001b[0;34m\u001b[0m\u001b[0m\n\u001b[0m",
      "\u001b[0;32m/opt/anaconda3/lib/python3.8/site-packages/pandas/core/generic.py\u001b[0m in \u001b[0;36mto_csv\u001b[0;34m(self, path_or_buf, sep, na_rep, float_format, columns, header, index, index_label, mode, encoding, compression, quoting, quotechar, line_terminator, chunksize, date_format, doublequote, escapechar, decimal, errors, storage_options)\u001b[0m\n\u001b[1;32m   3385\u001b[0m         )\n\u001b[1;32m   3386\u001b[0m \u001b[0;34m\u001b[0m\u001b[0m\n\u001b[0;32m-> 3387\u001b[0;31m         return DataFrameRenderer(formatter).to_csv(\n\u001b[0m\u001b[1;32m   3388\u001b[0m             \u001b[0mpath_or_buf\u001b[0m\u001b[0;34m,\u001b[0m\u001b[0;34m\u001b[0m\u001b[0;34m\u001b[0m\u001b[0m\n\u001b[1;32m   3389\u001b[0m             \u001b[0mline_terminator\u001b[0m\u001b[0;34m=\u001b[0m\u001b[0mline_terminator\u001b[0m\u001b[0;34m,\u001b[0m\u001b[0;34m\u001b[0m\u001b[0;34m\u001b[0m\u001b[0m\n",
      "\u001b[0;32m/opt/anaconda3/lib/python3.8/site-packages/pandas/io/formats/format.py\u001b[0m in \u001b[0;36mto_csv\u001b[0;34m(self, path_or_buf, encoding, sep, columns, index_label, mode, compression, quoting, quotechar, line_terminator, chunksize, date_format, doublequote, escapechar, errors, storage_options)\u001b[0m\n\u001b[1;32m   1081\u001b[0m             \u001b[0mformatter\u001b[0m\u001b[0;34m=\u001b[0m\u001b[0mself\u001b[0m\u001b[0;34m.\u001b[0m\u001b[0mfmt\u001b[0m\u001b[0;34m,\u001b[0m\u001b[0;34m\u001b[0m\u001b[0;34m\u001b[0m\u001b[0m\n\u001b[1;32m   1082\u001b[0m         )\n\u001b[0;32m-> 1083\u001b[0;31m         \u001b[0mcsv_formatter\u001b[0m\u001b[0;34m.\u001b[0m\u001b[0msave\u001b[0m\u001b[0;34m(\u001b[0m\u001b[0;34m)\u001b[0m\u001b[0;34m\u001b[0m\u001b[0;34m\u001b[0m\u001b[0m\n\u001b[0m\u001b[1;32m   1084\u001b[0m \u001b[0;34m\u001b[0m\u001b[0m\n\u001b[1;32m   1085\u001b[0m         \u001b[0;32mif\u001b[0m \u001b[0mcreated_buffer\u001b[0m\u001b[0;34m:\u001b[0m\u001b[0;34m\u001b[0m\u001b[0;34m\u001b[0m\u001b[0m\n",
      "\u001b[0;32m/opt/anaconda3/lib/python3.8/site-packages/pandas/io/formats/csvs.py\u001b[0m in \u001b[0;36msave\u001b[0;34m(self)\u001b[0m\n\u001b[1;32m    226\u001b[0m         \"\"\"\n\u001b[1;32m    227\u001b[0m         \u001b[0;31m# apply compression and byte/text conversion\u001b[0m\u001b[0;34m\u001b[0m\u001b[0;34m\u001b[0m\u001b[0;34m\u001b[0m\u001b[0m\n\u001b[0;32m--> 228\u001b[0;31m         with get_handle(\n\u001b[0m\u001b[1;32m    229\u001b[0m             \u001b[0mself\u001b[0m\u001b[0;34m.\u001b[0m\u001b[0mfilepath_or_buffer\u001b[0m\u001b[0;34m,\u001b[0m\u001b[0;34m\u001b[0m\u001b[0;34m\u001b[0m\u001b[0m\n\u001b[1;32m    230\u001b[0m             \u001b[0mself\u001b[0m\u001b[0;34m.\u001b[0m\u001b[0mmode\u001b[0m\u001b[0;34m,\u001b[0m\u001b[0;34m\u001b[0m\u001b[0;34m\u001b[0m\u001b[0m\n",
      "\u001b[0;32m/opt/anaconda3/lib/python3.8/site-packages/pandas/io/common.py\u001b[0m in \u001b[0;36mget_handle\u001b[0;34m(path_or_buf, mode, encoding, compression, memory_map, is_text, errors, storage_options)\u001b[0m\n\u001b[1;32m    640\u001b[0m                 \u001b[0merrors\u001b[0m \u001b[0;34m=\u001b[0m \u001b[0;34m\"replace\"\u001b[0m\u001b[0;34m\u001b[0m\u001b[0;34m\u001b[0m\u001b[0m\n\u001b[1;32m    641\u001b[0m             \u001b[0;31m# Encoding\u001b[0m\u001b[0;34m\u001b[0m\u001b[0;34m\u001b[0m\u001b[0;34m\u001b[0m\u001b[0m\n\u001b[0;32m--> 642\u001b[0;31m             handle = open(\n\u001b[0m\u001b[1;32m    643\u001b[0m                 \u001b[0mhandle\u001b[0m\u001b[0;34m,\u001b[0m\u001b[0;34m\u001b[0m\u001b[0;34m\u001b[0m\u001b[0m\n\u001b[1;32m    644\u001b[0m                 \u001b[0mioargs\u001b[0m\u001b[0;34m.\u001b[0m\u001b[0mmode\u001b[0m\u001b[0;34m,\u001b[0m\u001b[0;34m\u001b[0m\u001b[0;34m\u001b[0m\u001b[0m\n",
      "\u001b[0;31mIsADirectoryError\u001b[0m: [Errno 21] Is a directory: '/Users/nikkigerjarusak/desktop/'"
     ]
    }
   ],
   "source": [
    "sample_data.to_csv(r'/')"
   ]
  },
  {
   "cell_type": "code",
   "execution_count": 6,
   "id": "55f73b5e",
   "metadata": {
    "scrolled": false
   },
   "outputs": [
    {
     "data": {
      "text/plain": [
       "text     20001\n",
       "stars    20001\n",
       "dtype: int64"
      ]
     },
     "execution_count": 6,
     "metadata": {},
     "output_type": "execute_result"
    }
   ],
   "source": [
    "data.count()"
   ]
  },
  {
   "cell_type": "code",
   "execution_count": 34,
   "id": "f0fdb4cd",
   "metadata": {},
   "outputs": [
    {
     "data": {
      "text/plain": [
       "5    8901\n",
       "4    5131\n",
       "3    2241\n",
       "1    2157\n",
       "2    1571\n",
       "Name: stars, dtype: int64"
      ]
     },
     "execution_count": 34,
     "metadata": {},
     "output_type": "execute_result"
    }
   ],
   "source": [
    "data['stars'].value_counts()"
   ]
  },
  {
   "cell_type": "code",
   "execution_count": 7,
   "id": "31d42b4c",
   "metadata": {
    "scrolled": true
   },
   "outputs": [
    {
     "data": {
      "text/html": [
       "<div>\n",
       "<style scoped>\n",
       "    .dataframe tbody tr th:only-of-type {\n",
       "        vertical-align: middle;\n",
       "    }\n",
       "\n",
       "    .dataframe tbody tr th {\n",
       "        vertical-align: top;\n",
       "    }\n",
       "\n",
       "    .dataframe thead th {\n",
       "        text-align: right;\n",
       "    }\n",
       "</style>\n",
       "<table border=\"1\" class=\"dataframe\">\n",
       "  <thead>\n",
       "    <tr style=\"text-align: right;\">\n",
       "      <th></th>\n",
       "      <th>stars</th>\n",
       "    </tr>\n",
       "  </thead>\n",
       "  <tbody>\n",
       "    <tr>\n",
       "      <th>count</th>\n",
       "      <td>20001.000000</td>\n",
       "    </tr>\n",
       "    <tr>\n",
       "      <th>mean</th>\n",
       "      <td>3.852357</td>\n",
       "    </tr>\n",
       "    <tr>\n",
       "      <th>std</th>\n",
       "      <td>1.349130</td>\n",
       "    </tr>\n",
       "    <tr>\n",
       "      <th>min</th>\n",
       "      <td>1.000000</td>\n",
       "    </tr>\n",
       "    <tr>\n",
       "      <th>25%</th>\n",
       "      <td>3.000000</td>\n",
       "    </tr>\n",
       "    <tr>\n",
       "      <th>50%</th>\n",
       "      <td>4.000000</td>\n",
       "    </tr>\n",
       "    <tr>\n",
       "      <th>75%</th>\n",
       "      <td>5.000000</td>\n",
       "    </tr>\n",
       "    <tr>\n",
       "      <th>max</th>\n",
       "      <td>5.000000</td>\n",
       "    </tr>\n",
       "  </tbody>\n",
       "</table>\n",
       "</div>"
      ],
      "text/plain": [
       "              stars\n",
       "count  20001.000000\n",
       "mean       3.852357\n",
       "std        1.349130\n",
       "min        1.000000\n",
       "25%        3.000000\n",
       "50%        4.000000\n",
       "75%        5.000000\n",
       "max        5.000000"
      ]
     },
     "execution_count": 7,
     "metadata": {},
     "output_type": "execute_result"
    }
   ],
   "source": [
    "data.describe()"
   ]
  },
  {
   "cell_type": "code",
   "execution_count": 143,
   "id": "98b0ce91",
   "metadata": {},
   "outputs": [
    {
     "data": {
      "text/plain": [
       "<seaborn.axisgrid.FacetGrid at 0x7f999a5a4bb0>"
      ]
     },
     "execution_count": 143,
     "metadata": {},
     "output_type": "execute_result"
    },
    {
     "data": {
      "image/png": "[encoded data removed]",
      "text/plain": [
       "<Figure size 360x360 with 1 Axes>"
      ]
     },
     "metadata": {},
     "output_type": "display_data"
    }
   ],
   "source": [
    "##plot the histogram to see the distribution of stars\n",
    "sns.displot(data, x = \"stars\", bins = 9)"
   ]
  },
  {
   "cell_type": "code",
   "execution_count": 9,
   "id": "cb93ede6",
   "metadata": {},
   "outputs": [],
   "source": [
    "## create function to label star ratings\n",
    "def rating(r):\n",
    "    if r == 1:\n",
    "        return \"bad\"\n",
    "    elif r == 2:\n",
    "        return \"bad\"\n",
    "    elif r == 3:\n",
    "        return \"neutral\"\n",
    "    elif r == 4:\n",
    "        return \"good\"\n",
    "    else:\n",
    "        return \"good\""
   ]
  },
  {
   "cell_type": "code",
   "execution_count": 10,
   "id": "48e7860e",
   "metadata": {
    "scrolled": true
   },
   "outputs": [],
   "source": [
    "## apply function\n",
    "data['rating'] = data['stars'].apply(rating)"
   ]
  },
  {
   "cell_type": "code",
   "execution_count": 11,
   "id": "a21ecf5d",
   "metadata": {
    "scrolled": true
   },
   "outputs": [
    {
     "data": {
      "text/html": [
       "<div>\n",
       "<style scoped>\n",
       "    .dataframe tbody tr th:only-of-type {\n",
       "        vertical-align: middle;\n",
       "    }\n",
       "\n",
       "    .dataframe tbody tr th {\n",
       "        vertical-align: top;\n",
       "    }\n",
       "\n",
       "    .dataframe thead th {\n",
       "        text-align: right;\n",
       "    }\n",
       "</style>\n",
       "<table border=\"1\" class=\"dataframe\">\n",
       "  <thead>\n",
       "    <tr style=\"text-align: right;\">\n",
       "      <th></th>\n",
       "      <th>text</th>\n",
       "      <th>stars</th>\n",
       "      <th>rating</th>\n",
       "    </tr>\n",
       "  </thead>\n",
       "  <tbody>\n",
       "    <tr>\n",
       "      <th>0</th>\n",
       "      <td>If you decide to eat here, just be aware it is...</td>\n",
       "      <td>3</td>\n",
       "      <td>neutral</td>\n",
       "    </tr>\n",
       "    <tr>\n",
       "      <th>1</th>\n",
       "      <td>I've taken a lot of spin classes over the year...</td>\n",
       "      <td>5</td>\n",
       "      <td>good</td>\n",
       "    </tr>\n",
       "    <tr>\n",
       "      <th>2</th>\n",
       "      <td>Family diner. Had the buffet. Eclectic assortm...</td>\n",
       "      <td>3</td>\n",
       "      <td>neutral</td>\n",
       "    </tr>\n",
       "    <tr>\n",
       "      <th>3</th>\n",
       "      <td>Wow!  Yummy, different,  delicious.   Our favo...</td>\n",
       "      <td>5</td>\n",
       "      <td>good</td>\n",
       "    </tr>\n",
       "    <tr>\n",
       "      <th>4</th>\n",
       "      <td>Cute interior and owner (?) gave us tour of up...</td>\n",
       "      <td>4</td>\n",
       "      <td>good</td>\n",
       "    </tr>\n",
       "    <tr>\n",
       "      <th>5</th>\n",
       "      <td>I am a long term frequent customer of this est...</td>\n",
       "      <td>1</td>\n",
       "      <td>bad</td>\n",
       "    </tr>\n",
       "    <tr>\n",
       "      <th>6</th>\n",
       "      <td>Loved this tour! I grabbed a groupon and the p...</td>\n",
       "      <td>5</td>\n",
       "      <td>good</td>\n",
       "    </tr>\n",
       "    <tr>\n",
       "      <th>7</th>\n",
       "      <td>Amazingly amazing wings and homemade bleu chee...</td>\n",
       "      <td>5</td>\n",
       "      <td>good</td>\n",
       "    </tr>\n",
       "    <tr>\n",
       "      <th>8</th>\n",
       "      <td>This easter instead of going to Lopez Lake we ...</td>\n",
       "      <td>3</td>\n",
       "      <td>neutral</td>\n",
       "    </tr>\n",
       "    <tr>\n",
       "      <th>9</th>\n",
       "      <td>Had a party of 6 here for hibachi. Our waitres...</td>\n",
       "      <td>3</td>\n",
       "      <td>neutral</td>\n",
       "    </tr>\n",
       "    <tr>\n",
       "      <th>10</th>\n",
       "      <td>My experience with Shalimar was nothing but wo...</td>\n",
       "      <td>5</td>\n",
       "      <td>good</td>\n",
       "    </tr>\n",
       "    <tr>\n",
       "      <th>11</th>\n",
       "      <td>Locals recommended Milktooth, and it's an amaz...</td>\n",
       "      <td>4</td>\n",
       "      <td>good</td>\n",
       "    </tr>\n",
       "    <tr>\n",
       "      <th>12</th>\n",
       "      <td>Love going here for happy hour or dinner!  Gre...</td>\n",
       "      <td>4</td>\n",
       "      <td>good</td>\n",
       "    </tr>\n",
       "    <tr>\n",
       "      <th>13</th>\n",
       "      <td>Good food--loved the gnocchi with marinara\\nth...</td>\n",
       "      <td>4</td>\n",
       "      <td>good</td>\n",
       "    </tr>\n",
       "    <tr>\n",
       "      <th>14</th>\n",
       "      <td>The bun makes the Sonoran Dog. It's like a snu...</td>\n",
       "      <td>4</td>\n",
       "      <td>good</td>\n",
       "    </tr>\n",
       "  </tbody>\n",
       "</table>\n",
       "</div>"
      ],
      "text/plain": [
       "                                                 text  stars   rating\n",
       "0   If you decide to eat here, just be aware it is...      3  neutral\n",
       "1   I've taken a lot of spin classes over the year...      5     good\n",
       "2   Family diner. Had the buffet. Eclectic assortm...      3  neutral\n",
       "3   Wow!  Yummy, different,  delicious.   Our favo...      5     good\n",
       "4   Cute interior and owner (?) gave us tour of up...      4     good\n",
       "5   I am a long term frequent customer of this est...      1      bad\n",
       "6   Loved this tour! I grabbed a groupon and the p...      5     good\n",
       "7   Amazingly amazing wings and homemade bleu chee...      5     good\n",
       "8   This easter instead of going to Lopez Lake we ...      3  neutral\n",
       "9   Had a party of 6 here for hibachi. Our waitres...      3  neutral\n",
       "10  My experience with Shalimar was nothing but wo...      5     good\n",
       "11  Locals recommended Milktooth, and it's an amaz...      4     good\n",
       "12  Love going here for happy hour or dinner!  Gre...      4     good\n",
       "13  Good food--loved the gnocchi with marinara\\nth...      4     good\n",
       "14  The bun makes the Sonoran Dog. It's like a snu...      4     good"
      ]
     },
     "execution_count": 11,
     "metadata": {},
     "output_type": "execute_result"
    }
   ],
   "source": [
    "data.head(15)"
   ]
  },
  {
   "cell_type": "code",
   "execution_count": 144,
   "id": "4cc6bac9",
   "metadata": {
    "scrolled": false
   },
   "outputs": [
    {
     "data": {
      "text/plain": [
       "<seaborn.axisgrid.FacetGrid at 0x7f998885a190>"
      ]
     },
     "execution_count": 144,
     "metadata": {},
     "output_type": "execute_result"
    },
    {
     "data": {
      "image/png": "[encoded data removed]",
      "text/plain": [
       "<Figure size 360x360 with 1 Axes>"
      ]
     },
     "metadata": {},
     "output_type": "display_data"
    }
   ],
   "source": [
    "## distribution of ratings\n",
    "sns.displot(data, x = \"rating\")"
   ]
  },
  {
   "cell_type": "code",
   "execution_count": 13,
   "id": "e78db4d3",
   "metadata": {
    "scrolled": true
   },
   "outputs": [
    {
     "data": {
      "text/html": [
       "<div>\n",
       "<style scoped>\n",
       "    .dataframe tbody tr th:only-of-type {\n",
       "        vertical-align: middle;\n",
       "    }\n",
       "\n",
       "    .dataframe tbody tr th {\n",
       "        vertical-align: top;\n",
       "    }\n",
       "\n",
       "    .dataframe thead th {\n",
       "        text-align: right;\n",
       "    }\n",
       "</style>\n",
       "<table border=\"1\" class=\"dataframe\">\n",
       "  <thead>\n",
       "    <tr style=\"text-align: right;\">\n",
       "      <th></th>\n",
       "      <th>_id</th>\n",
       "      <th>address</th>\n",
       "      <th>attributes</th>\n",
       "      <th>attributes.AcceptsInsurance</th>\n",
       "      <th>attributes.Alcohol</th>\n",
       "      <th>attributes.Ambience</th>\n",
       "      <th>attributes.BestNights</th>\n",
       "      <th>attributes.BikeParking</th>\n",
       "      <th>attributes.BusinessAcceptsBitcoin</th>\n",
       "      <th>attributes.BusinessAcceptsCreditCards</th>\n",
       "      <th>...</th>\n",
       "      <th>hours.Sunday</th>\n",
       "      <th>hours.Thursday</th>\n",
       "      <th>hours.Tuesday</th>\n",
       "      <th>hours.Wednesday</th>\n",
       "      <th>is_open</th>\n",
       "      <th>name</th>\n",
       "      <th>postal_code</th>\n",
       "      <th>review_count</th>\n",
       "      <th>stars</th>\n",
       "      <th>state</th>\n",
       "    </tr>\n",
       "  </thead>\n",
       "  <tbody>\n",
       "    <tr>\n",
       "      <th>0</th>\n",
       "      <td>623b659d8a3fd8be2fa1c3e9</td>\n",
       "      <td>1616 Chapala St, Ste 2</td>\n",
       "      <td>NaN</td>\n",
       "      <td>NaN</td>\n",
       "      <td>NaN</td>\n",
       "      <td>NaN</td>\n",
       "      <td>NaN</td>\n",
       "      <td>NaN</td>\n",
       "      <td>NaN</td>\n",
       "      <td>NaN</td>\n",
       "      <td>...</td>\n",
       "      <td>NaN</td>\n",
       "      <td>NaN</td>\n",
       "      <td>NaN</td>\n",
       "      <td>NaN</td>\n",
       "      <td>0</td>\n",
       "      <td>Abby Rappoport, LAC, CMQ</td>\n",
       "      <td>93101</td>\n",
       "      <td>7</td>\n",
       "      <td>5.0</td>\n",
       "      <td>CA</td>\n",
       "    </tr>\n",
       "    <tr>\n",
       "      <th>1</th>\n",
       "      <td>623b659d8a3fd8be2fa1c3ea</td>\n",
       "      <td>87 Grasso Plaza Shopping Center</td>\n",
       "      <td>NaN</td>\n",
       "      <td>NaN</td>\n",
       "      <td>NaN</td>\n",
       "      <td>NaN</td>\n",
       "      <td>NaN</td>\n",
       "      <td>NaN</td>\n",
       "      <td>NaN</td>\n",
       "      <td>True</td>\n",
       "      <td>...</td>\n",
       "      <td>NaN</td>\n",
       "      <td>8:0-18:30</td>\n",
       "      <td>8:0-18:30</td>\n",
       "      <td>8:0-18:30</td>\n",
       "      <td>1</td>\n",
       "      <td>The UPS Store</td>\n",
       "      <td>63123</td>\n",
       "      <td>15</td>\n",
       "      <td>3.0</td>\n",
       "      <td>MO</td>\n",
       "    </tr>\n",
       "    <tr>\n",
       "      <th>2</th>\n",
       "      <td>623b659d8a3fd8be2fa1c3eb</td>\n",
       "      <td>5255 E Broadway Blvd</td>\n",
       "      <td>NaN</td>\n",
       "      <td>NaN</td>\n",
       "      <td>NaN</td>\n",
       "      <td>NaN</td>\n",
       "      <td>NaN</td>\n",
       "      <td>True</td>\n",
       "      <td>NaN</td>\n",
       "      <td>True</td>\n",
       "      <td>...</td>\n",
       "      <td>8:0-22:0</td>\n",
       "      <td>8:0-22:0</td>\n",
       "      <td>8:0-22:0</td>\n",
       "      <td>8:0-22:0</td>\n",
       "      <td>0</td>\n",
       "      <td>Target</td>\n",
       "      <td>85711</td>\n",
       "      <td>22</td>\n",
       "      <td>3.5</td>\n",
       "      <td>AZ</td>\n",
       "    </tr>\n",
       "    <tr>\n",
       "      <th>3</th>\n",
       "      <td>623b659d8a3fd8be2fa1c3ec</td>\n",
       "      <td>935 Race St</td>\n",
       "      <td>NaN</td>\n",
       "      <td>NaN</td>\n",
       "      <td>u'none'</td>\n",
       "      <td>NaN</td>\n",
       "      <td>NaN</td>\n",
       "      <td>True</td>\n",
       "      <td>NaN</td>\n",
       "      <td>False</td>\n",
       "      <td>...</td>\n",
       "      <td>7:0-21:0</td>\n",
       "      <td>7:0-20:0</td>\n",
       "      <td>7:0-20:0</td>\n",
       "      <td>7:0-20:0</td>\n",
       "      <td>1</td>\n",
       "      <td>St Honore Pastries</td>\n",
       "      <td>19107</td>\n",
       "      <td>80</td>\n",
       "      <td>4.0</td>\n",
       "      <td>PA</td>\n",
       "    </tr>\n",
       "    <tr>\n",
       "      <th>4</th>\n",
       "      <td>623b659d8a3fd8be2fa1c3ed</td>\n",
       "      <td>101 Walnut St</td>\n",
       "      <td>NaN</td>\n",
       "      <td>NaN</td>\n",
       "      <td>NaN</td>\n",
       "      <td>NaN</td>\n",
       "      <td>NaN</td>\n",
       "      <td>True</td>\n",
       "      <td>NaN</td>\n",
       "      <td>True</td>\n",
       "      <td>...</td>\n",
       "      <td>12:0-18:0</td>\n",
       "      <td>16:0-22:0</td>\n",
       "      <td>NaN</td>\n",
       "      <td>14:0-22:0</td>\n",
       "      <td>1</td>\n",
       "      <td>Perkiomen Valley Brewery</td>\n",
       "      <td>18054</td>\n",
       "      <td>13</td>\n",
       "      <td>4.5</td>\n",
       "      <td>PA</td>\n",
       "    </tr>\n",
       "  </tbody>\n",
       "</table>\n",
       "<p>5 rows × 51 columns</p>\n",
       "</div>"
      ],
      "text/plain": [
       "                        _id                          address  attributes  \\\n",
       "0  623b659d8a3fd8be2fa1c3e9           1616 Chapala St, Ste 2         NaN   \n",
       "1  623b659d8a3fd8be2fa1c3ea  87 Grasso Plaza Shopping Center         NaN   \n",
       "2  623b659d8a3fd8be2fa1c3eb             5255 E Broadway Blvd         NaN   \n",
       "3  623b659d8a3fd8be2fa1c3ec                      935 Race St         NaN   \n",
       "4  623b659d8a3fd8be2fa1c3ed                    101 Walnut St         NaN   \n",
       "\n",
       "  attributes.AcceptsInsurance attributes.Alcohol attributes.Ambience  \\\n",
       "0                         NaN                NaN                 NaN   \n",
       "1                         NaN                NaN                 NaN   \n",
       "2                         NaN                NaN                 NaN   \n",
       "3                         NaN            u'none'                 NaN   \n",
       "4                         NaN                NaN                 NaN   \n",
       "\n",
       "  attributes.BestNights attributes.BikeParking  \\\n",
       "0                   NaN                    NaN   \n",
       "1                   NaN                    NaN   \n",
       "2                   NaN                   True   \n",
       "3                   NaN                   True   \n",
       "4                   NaN                   True   \n",
       "\n",
       "  attributes.BusinessAcceptsBitcoin attributes.BusinessAcceptsCreditCards  \\\n",
       "0                               NaN                                   NaN   \n",
       "1                               NaN                                  True   \n",
       "2                               NaN                                  True   \n",
       "3                               NaN                                 False   \n",
       "4                               NaN                                  True   \n",
       "\n",
       "   ... hours.Sunday hours.Thursday hours.Tuesday hours.Wednesday is_open  \\\n",
       "0  ...          NaN            NaN           NaN             NaN       0   \n",
       "1  ...          NaN      8:0-18:30     8:0-18:30       8:0-18:30       1   \n",
       "2  ...     8:0-22:0       8:0-22:0      8:0-22:0        8:0-22:0       0   \n",
       "3  ...     7:0-21:0       7:0-20:0      7:0-20:0        7:0-20:0       1   \n",
       "4  ...    12:0-18:0      16:0-22:0           NaN       14:0-22:0       1   \n",
       "\n",
       "                       name postal_code review_count stars state  \n",
       "0  Abby Rappoport, LAC, CMQ       93101            7   5.0    CA  \n",
       "1             The UPS Store       63123           15   3.0    MO  \n",
       "2                    Target       85711           22   3.5    AZ  \n",
       "3        St Honore Pastries       19107           80   4.0    PA  \n",
       "4  Perkiomen Valley Brewery       18054           13   4.5    PA  \n",
       "\n",
       "[5 rows x 51 columns]"
      ]
     },
     "execution_count": 13,
     "metadata": {},
     "output_type": "execute_result"
    }
   ],
   "source": [
    "businesses = pd.read_csv(r'/Users/nikkigerjarusak/desktop/ThesisPython/businesses.csv')\n",
    "businesses.head(5)"
   ]
  },
  {
   "cell_type": "code",
   "execution_count": 157,
   "id": "352d0a3d",
   "metadata": {},
   "outputs": [],
   "source": [
    "business_id = businesses[\"business_id\"]"
   ]
  },
  {
   "cell_type": "code",
   "execution_count": 158,
   "id": "d29cdb67",
   "metadata": {
    "scrolled": true
   },
   "outputs": [
    {
     "data": {
      "text/plain": [
       "0    Pns2l4eNsfO8kk83dixA6A\n",
       "1    mpf3x-BjTdTEA3yCZrAYPw\n",
       "2    tUFrWirKiKi_TAnsVWINQQ\n",
       "3    MTSW4McQd7CbVtyjqoe9mw\n",
       "4    mWMc6_wTdE0EUBKIGXDVfA\n",
       "Name: business_id, dtype: object"
      ]
     },
     "execution_count": 158,
     "metadata": {},
     "output_type": "execute_result"
    }
   ],
   "source": [
    "business_id.head()"
   ]
  },
  {
   "cell_type": "code",
   "execution_count": 14,
   "id": "fa0456ba",
   "metadata": {
    "scrolled": true
   },
   "outputs": [
    {
     "data": {
      "text/html": [
       "<div>\n",
       "<style scoped>\n",
       "    .dataframe tbody tr th:only-of-type {\n",
       "        vertical-align: middle;\n",
       "    }\n",
       "\n",
       "    .dataframe tbody tr th {\n",
       "        vertical-align: top;\n",
       "    }\n",
       "\n",
       "    .dataframe thead th {\n",
       "        text-align: right;\n",
       "    }\n",
       "</style>\n",
       "<table border=\"1\" class=\"dataframe\">\n",
       "  <thead>\n",
       "    <tr style=\"text-align: right;\">\n",
       "      <th></th>\n",
       "      <th>attributes</th>\n",
       "      <th>hours</th>\n",
       "      <th>is_open</th>\n",
       "      <th>review_count</th>\n",
       "      <th>stars</th>\n",
       "    </tr>\n",
       "  </thead>\n",
       "  <tbody>\n",
       "    <tr>\n",
       "      <th>count</th>\n",
       "      <td>0.0</td>\n",
       "      <td>0.0</td>\n",
       "      <td>150346.00000</td>\n",
       "      <td>150346.000000</td>\n",
       "      <td>150346.000000</td>\n",
       "    </tr>\n",
       "    <tr>\n",
       "      <th>mean</th>\n",
       "      <td>NaN</td>\n",
       "      <td>NaN</td>\n",
       "      <td>0.79615</td>\n",
       "      <td>44.866561</td>\n",
       "      <td>3.596724</td>\n",
       "    </tr>\n",
       "    <tr>\n",
       "      <th>std</th>\n",
       "      <td>NaN</td>\n",
       "      <td>NaN</td>\n",
       "      <td>0.40286</td>\n",
       "      <td>121.120136</td>\n",
       "      <td>0.974421</td>\n",
       "    </tr>\n",
       "    <tr>\n",
       "      <th>min</th>\n",
       "      <td>NaN</td>\n",
       "      <td>NaN</td>\n",
       "      <td>0.00000</td>\n",
       "      <td>5.000000</td>\n",
       "      <td>1.000000</td>\n",
       "    </tr>\n",
       "    <tr>\n",
       "      <th>25%</th>\n",
       "      <td>NaN</td>\n",
       "      <td>NaN</td>\n",
       "      <td>1.00000</td>\n",
       "      <td>8.000000</td>\n",
       "      <td>3.000000</td>\n",
       "    </tr>\n",
       "    <tr>\n",
       "      <th>50%</th>\n",
       "      <td>NaN</td>\n",
       "      <td>NaN</td>\n",
       "      <td>1.00000</td>\n",
       "      <td>15.000000</td>\n",
       "      <td>3.500000</td>\n",
       "    </tr>\n",
       "    <tr>\n",
       "      <th>75%</th>\n",
       "      <td>NaN</td>\n",
       "      <td>NaN</td>\n",
       "      <td>1.00000</td>\n",
       "      <td>37.000000</td>\n",
       "      <td>4.500000</td>\n",
       "    </tr>\n",
       "    <tr>\n",
       "      <th>max</th>\n",
       "      <td>NaN</td>\n",
       "      <td>NaN</td>\n",
       "      <td>1.00000</td>\n",
       "      <td>7568.000000</td>\n",
       "      <td>5.000000</td>\n",
       "    </tr>\n",
       "  </tbody>\n",
       "</table>\n",
       "</div>"
      ],
      "text/plain": [
       "       attributes  hours       is_open   review_count          stars\n",
       "count         0.0    0.0  150346.00000  150346.000000  150346.000000\n",
       "mean          NaN    NaN       0.79615      44.866561       3.596724\n",
       "std           NaN    NaN       0.40286     121.120136       0.974421\n",
       "min           NaN    NaN       0.00000       5.000000       1.000000\n",
       "25%           NaN    NaN       1.00000       8.000000       3.000000\n",
       "50%           NaN    NaN       1.00000      15.000000       3.500000\n",
       "75%           NaN    NaN       1.00000      37.000000       4.500000\n",
       "max           NaN    NaN       1.00000    7568.000000       5.000000"
      ]
     },
     "execution_count": 14,
     "metadata": {},
     "output_type": "execute_result"
    }
   ],
   "source": [
    "businesses.describe()"
   ]
  },
  {
   "cell_type": "code",
   "execution_count": 147,
   "id": "2a83ed7e",
   "metadata": {},
   "outputs": [
    {
     "data": {
      "text/plain": [
       "PA     34039\n",
       "FL     26330\n",
       "TN     12056\n",
       "IN     11247\n",
       "MO     10913\n",
       "LA      9924\n",
       "AZ      9912\n",
       "NJ      8536\n",
       "NV      7715\n",
       "AB      5573\n",
       "CA      5203\n",
       "ID      4467\n",
       "DE      2265\n",
       "IL      2145\n",
       "TX         4\n",
       "CO         3\n",
       "MA         2\n",
       "HI         2\n",
       "WA         2\n",
       "UT         1\n",
       "NC         1\n",
       "VT         1\n",
       "MI         1\n",
       "VI         1\n",
       "SD         1\n",
       "MT         1\n",
       "XMS        1\n",
       "Name: state, dtype: int64"
      ]
     },
     "execution_count": 147,
     "metadata": {},
     "output_type": "execute_result"
    }
   ],
   "source": [
    "businesses['state'].value_counts()"
   ]
  },
  {
   "cell_type": "code",
   "execution_count": 145,
   "id": "de71e37a",
   "metadata": {
    "scrolled": true
   },
   "outputs": [
    {
     "data": {
      "text/plain": [
       "<seaborn.axisgrid.FacetGrid at 0x7f999a59b6d0>"
      ]
     },
     "execution_count": 145,
     "metadata": {},
     "output_type": "execute_result"
    },
    {
     "data": {
      "text/plain": [
       "<Figure size 1440x720 with 0 Axes>"
      ]
     },
     "metadata": {},
     "output_type": "display_data"
    },
    {
     "data": {
      "image/png": "[encoded data removed]",
      "text/plain": [
       "<Figure size 360x360 with 1 Axes>"
      ]
     },
     "metadata": {},
     "output_type": "display_data"
    }
   ],
   "source": [
    "plt.figure(figsize=(20,10))\n",
    "sns.displot(businesses, x = \"stars\", bins = 9)"
   ]
  },
  {
   "cell_type": "markdown",
   "id": "aa007cf9",
   "metadata": {},
   "source": [
    "From the businesses dataset, we can see that they include .5 star ratings. Here, more establishments received a 4.0 star rating. This is lower than the previous distribution from the reviews dataset because 4.5 stars aren't rounded up to 5.0 stars. This is also based on businesses and not on individidual reviews."
   ]
  },
  {
   "cell_type": "code",
   "execution_count": 16,
   "id": "37eaf21c",
   "metadata": {
    "scrolled": false
   },
   "outputs": [
    {
     "data": {
      "text/plain": [
       "count    150346.000000\n",
       "mean          3.596724\n",
       "std           0.974421\n",
       "min           1.000000\n",
       "25%           3.000000\n",
       "50%           3.500000\n",
       "75%           4.500000\n",
       "max           5.000000\n",
       "Name: stars, dtype: float64"
      ]
     },
     "execution_count": 16,
     "metadata": {},
     "output_type": "execute_result"
    }
   ],
   "source": [
    "businesses['stars'].describe()"
   ]
  },
  {
   "cell_type": "markdown",
   "id": "5e95af96",
   "metadata": {},
   "source": [
    "The mean star rating is lower at 3.597 because the star ratings are rounded up. The 75% quartile is also lower than 5.0 at 4.5 stars. "
   ]
  },
  {
   "cell_type": "code",
   "execution_count": 17,
   "id": "93d7223e",
   "metadata": {
    "scrolled": false
   },
   "outputs": [
    {
     "data": {
      "image/png": "[encoded data removed]",
      "text/plain": [
       "<Figure size 1440x720 with 1 Axes>"
      ]
     },
     "metadata": {},
     "output_type": "display_data"
    }
   ],
   "source": [
    "state_data = businesses.dropna(subset = ['state'])\n",
    "\n",
    "sns.set(style = 'darkgrid')\n",
    "plt.figure(figsize=(20,10))\n",
    "ax = sns.countplot(x = 'state', data = state_data)"
   ]
  },
  {
   "cell_type": "code",
   "execution_count": 18,
   "id": "ded0a799",
   "metadata": {},
   "outputs": [],
   "source": [
    "## load packages \n",
    "import numpy as np\n",
    "import pandas as pd\n",
    "import re, nltk, spacy, gensim\n",
    "\n",
    "## sklearn\n",
    "from sklearn.decomposition import LatentDirichletAllocation, TruncatedSVD\n",
    "from sklearn.feature_extraction.text import CountVectorizer, TfidfVectorizer\n",
    "from sklearn.model_selection import GridSearchCV\n",
    "from pprint import pprint"
   ]
  },
  {
   "cell_type": "code",
   "execution_count": 19,
   "id": "c279cd98",
   "metadata": {},
   "outputs": [],
   "source": [
    "data['text'] = [i.replace(\"&amp;amp;\", '').replace(\"\\'\",'') for i in data['text']]"
   ]
  },
  {
   "cell_type": "code",
   "execution_count": 20,
   "id": "1a4a24b3",
   "metadata": {},
   "outputs": [],
   "source": [
    "full_text = ' '.join(data['text'])"
   ]
  },
  {
   "cell_type": "code",
   "execution_count": 21,
   "id": "59703108",
   "metadata": {},
   "outputs": [],
   "source": [
    "from nltk.corpus import stopwords\n",
    "from sklearn.feature_extraction.text import ENGLISH_STOP_WORDS\n",
    "\n",
    "my_stop_words = set(stopwords.words('english') + list(ENGLISH_STOP_WORDS) + ['super', 'duper', 'place'])"
   ]
  },
  {
   "cell_type": "code",
   "execution_count": 22,
   "id": "b842620e",
   "metadata": {
    "scrolled": true
   },
   "outputs": [
    {
     "data": {
      "image/png": "[encoded data removed]",
      "text/plain": [
       "<Figure size 864x864 with 1 Axes>"
      ]
     },
     "metadata": {},
     "output_type": "display_data"
    }
   ],
   "source": [
    "from wordcloud import WordCloud\n",
    "import matplotlib.pyplot as plt\n",
    "\n",
    "\n",
    "cloud_no_stopword = WordCloud(background_color='white', stopwords=my_stop_words).generate(full_text)\n",
    "plt.figure( figsize=(12,12))\n",
    "plt.imshow(cloud_no_stopword, interpolation='bilinear')\n",
    "plt.axis('off')\n",
    "plt.show()"
   ]
  },
  {
   "cell_type": "code",
   "execution_count": 23,
   "id": "39beff99",
   "metadata": {},
   "outputs": [],
   "source": [
    "from nltk.tokenize import word_tokenize\n",
    "from nltk import FreqDist\n",
    "\n",
    "lower_full_text = full_text.lower()\n",
    "word_tokens = word_tokenize(lower_full_text)\n",
    "tokens = list()\n",
    "for word in word_tokens:\n",
    "    if word.isalpha() and word not in my_stop_words:\n",
    "        tokens.append(word)\n",
    "        \n",
    "token_dist = FreqDist(tokens)\n",
    "dist = pd.DataFrame(token_dist.most_common(20),columns=['Word', 'Frequency'])"
   ]
  },
  {
   "cell_type": "code",
   "execution_count": 24,
   "id": "ac3d2241",
   "metadata": {
    "scrolled": false
   },
   "outputs": [
    {
     "name": "stdout",
     "output_type": "stream",
     "text": [
      "[('food', 10766), ('good', 10179), ('great', 9550), ('service', 6434), ('like', 6289), ('time', 6071), ('really', 4773), ('nice', 3692), ('got', 3619), ('best', 3610), ('dont', 3323), ('staff', 3162), ('ordered', 3162), ('love', 3137), ('ive', 3124), ('order', 3044), ('delicious', 3036), ('im', 3028), ('friendly', 3027), ('restaurant', 2854)]\n"
     ]
    }
   ],
   "source": [
    "print(token_dist.most_common(20))"
   ]
  },
  {
   "cell_type": "code",
   "execution_count": 25,
   "id": "6a2a4ccc",
   "metadata": {},
   "outputs": [
    {
     "data": {
      "image/png": "[encoded data removed]",
      "text/plain": [
       "<Figure size 720x720 with 1 Axes>"
      ]
     },
     "metadata": {},
     "output_type": "display_data"
    }
   ],
   "source": [
    "fig, ax = plt.subplots(figsize=(10,10))\n",
    "all_plot = sns.barplot(x = dist.Frequency, y = dist.Word, ax=ax);"
   ]
  },
  {
   "cell_type": "code",
   "execution_count": 26,
   "id": "c437860f",
   "metadata": {},
   "outputs": [],
   "source": [
    "from nltk.stem import PorterStemmer\n",
    "porter = PorterStemmer()\n",
    "\n",
    "stemmed_tokens =[porter.stem(word) for word in tokens]\n",
    "stemmed_token_dist = FreqDist(stemmed_tokens)\n",
    "stemmed_dist = pd.DataFrame(stemmed_token_dist.most_common(20),columns=['Word', 'Frequency'])"
   ]
  },
  {
   "cell_type": "code",
   "execution_count": 27,
   "id": "b4289cda",
   "metadata": {},
   "outputs": [
    {
     "data": {
      "image/png": "[encoded data removed]",
      "text/plain": [
       "<Figure size 720x720 with 1 Axes>"
      ]
     },
     "metadata": {},
     "output_type": "display_data"
    }
   ],
   "source": [
    "fig, ax = plt.subplots(figsize=(10,10))\n",
    "all_plot = sns.barplot(x = stemmed_dist.Frequency, y = stemmed_dist.Word, ax=ax);"
   ]
  },
  {
   "cell_type": "code",
   "execution_count": 28,
   "id": "c3bfed63",
   "metadata": {},
   "outputs": [],
   "source": [
    "from sklearn.feature_extraction.text import CountVectorizer\n",
    "\n",
    "vect = CountVectorizer(stop_words=my_stop_words, ngram_range=(2,2))\n",
    "bigrams = vect.fit_transform(data['text'])\n",
    "bigram_df = pd.DataFrame(bigrams.toarray(), columns=vect.get_feature_names())\n",
    "bigram_frequency = pd.DataFrame(bigram_df.sum(axis=0)).reset_index()\n",
    "bigram_frequency.columns = ['bigram', 'frequency']\n",
    "bigram_frequency = bigram_frequency.sort_values(by='frequency', ascending=False).head(20)"
   ]
  },
  {
   "cell_type": "code",
   "execution_count": 29,
   "id": "129c1681",
   "metadata": {
    "scrolled": true
   },
   "outputs": [
    {
     "data": {
      "image/png": "[encoded data removed]",
      "text/plain": [
       "<Figure size 720x720 with 1 Axes>"
      ]
     },
     "metadata": {},
     "output_type": "display_data"
    }
   ],
   "source": [
    "fig, ax = plt.subplots(figsize=(10,10))\n",
    "all_plot = sns.barplot(x = bigram_frequency.frequency, y = bigram_frequency.bigram, ax=ax);"
   ]
  },
  {
   "cell_type": "code",
   "execution_count": 30,
   "id": "5e69aa58",
   "metadata": {},
   "outputs": [],
   "source": [
    "## good reviews are 4-5 stars \n",
    "data_good = data[data['rating'] == 'good']"
   ]
  },
  {
   "cell_type": "code",
   "execution_count": 32,
   "id": "02645ca3",
   "metadata": {
    "scrolled": false
   },
   "outputs": [
    {
     "data": {
      "text/html": [
       "<div>\n",
       "<style scoped>\n",
       "    .dataframe tbody tr th:only-of-type {\n",
       "        vertical-align: middle;\n",
       "    }\n",
       "\n",
       "    .dataframe tbody tr th {\n",
       "        vertical-align: top;\n",
       "    }\n",
       "\n",
       "    .dataframe thead th {\n",
       "        text-align: right;\n",
       "    }\n",
       "</style>\n",
       "<table border=\"1\" class=\"dataframe\">\n",
       "  <thead>\n",
       "    <tr style=\"text-align: right;\">\n",
       "      <th></th>\n",
       "      <th>text</th>\n",
       "      <th>stars</th>\n",
       "      <th>rating</th>\n",
       "    </tr>\n",
       "  </thead>\n",
       "  <tbody>\n",
       "    <tr>\n",
       "      <th>1</th>\n",
       "      <td>Ive taken a lot of spin classes over the years...</td>\n",
       "      <td>5</td>\n",
       "      <td>good</td>\n",
       "    </tr>\n",
       "    <tr>\n",
       "      <th>3</th>\n",
       "      <td>Wow!  Yummy, different,  delicious.   Our favo...</td>\n",
       "      <td>5</td>\n",
       "      <td>good</td>\n",
       "    </tr>\n",
       "    <tr>\n",
       "      <th>4</th>\n",
       "      <td>Cute interior and owner (?) gave us tour of up...</td>\n",
       "      <td>4</td>\n",
       "      <td>good</td>\n",
       "    </tr>\n",
       "    <tr>\n",
       "      <th>6</th>\n",
       "      <td>Loved this tour! I grabbed a groupon and the p...</td>\n",
       "      <td>5</td>\n",
       "      <td>good</td>\n",
       "    </tr>\n",
       "    <tr>\n",
       "      <th>7</th>\n",
       "      <td>Amazingly amazing wings and homemade bleu chee...</td>\n",
       "      <td>5</td>\n",
       "      <td>good</td>\n",
       "    </tr>\n",
       "  </tbody>\n",
       "</table>\n",
       "</div>"
      ],
      "text/plain": [
       "                                                text  stars rating\n",
       "1  Ive taken a lot of spin classes over the years...      5   good\n",
       "3  Wow!  Yummy, different,  delicious.   Our favo...      5   good\n",
       "4  Cute interior and owner (?) gave us tour of up...      4   good\n",
       "6  Loved this tour! I grabbed a groupon and the p...      5   good\n",
       "7  Amazingly amazing wings and homemade bleu chee...      5   good"
      ]
     },
     "execution_count": 32,
     "metadata": {},
     "output_type": "execute_result"
    }
   ],
   "source": [
    "data_good.head(5)"
   ]
  },
  {
   "cell_type": "code",
   "execution_count": 33,
   "id": "6242eeb3",
   "metadata": {},
   "outputs": [
    {
     "data": {
      "text/plain": [
       "5    8901\n",
       "4    5131\n",
       "Name: stars, dtype: int64"
      ]
     },
     "execution_count": 33,
     "metadata": {},
     "output_type": "execute_result"
    }
   ],
   "source": [
    "data_good['stars'].value_counts()"
   ]
  },
  {
   "cell_type": "code",
   "execution_count": 36,
   "id": "917e7723",
   "metadata": {},
   "outputs": [],
   "source": [
    "from nltk.tokenize import sent_tokenize\n",
    "\n",
    "good_reviews = ' '.join(data_good.text)\n",
    "\n",
    "## split the long string into sentences\n",
    "sentences_good = sent_tokenize(good_reviews)\n",
    "good_token_clean = list()\n",
    "## get tokens for each sentence\n",
    "for sentence in sentences_good:\n",
    "    eng_word = re.findall(r'[A-Za-z\\-]+', sentence)\n",
    "    good_token_clean.append([i.lower() for i in eng_word if i.lower() not in my_stop_words])"
   ]
  },
  {
   "cell_type": "code",
   "execution_count": 37,
   "id": "d78913d6",
   "metadata": {
    "scrolled": false
   },
   "outputs": [
    {
     "name": "stdout",
     "output_type": "stream",
     "text": [
      "['I like the Veal Milanese but with mixed greens instead of pasta!', 'theyll modify the menu to suit your taste!', 'Good food--loved the gnocchi with marinara\\nthe baked eggplant appetizer was very good too\\n\\nThe service was very slow, but despite this, Id go back, the food is just that good The bun makes the Sonoran Dog.', 'Its like a snuggie for the pup.', 'A first, it seems ridiculous and almost like its going to be too much, exactly like everyones favorite blanket with sleeves.']\n"
     ]
    }
   ],
   "source": [
    "print(sentences_good[50:55])"
   ]
  },
  {
   "cell_type": "code",
   "execution_count": 38,
   "id": "c1bb12c6",
   "metadata": {
    "scrolled": true
   },
   "outputs": [
    {
     "name": "stdout",
     "output_type": "stream",
     "text": [
      "[['like', 'veal', 'milanese', 'mixed', 'greens', 'instead', 'pasta'], ['theyll', 'modify', 'menu', 'suit', 'taste'], ['good', 'food--loved', 'gnocchi', 'marinara', 'baked', 'eggplant', 'appetizer', 'good', 'service', 'slow', 'despite', 'id', 'food', 'good', 'bun', 'makes', 'sonoran', 'dog'], ['like', 'snuggie', 'pup'], ['ridiculous', 'like', 'going', 'exactly', 'like', 'everyones', 'favorite', 'blanket', 'sleeves']]\n"
     ]
    }
   ],
   "source": [
    "print(good_token_clean[50:55])"
   ]
  },
  {
   "cell_type": "code",
   "execution_count": 39,
   "id": "29d87ea5",
   "metadata": {
    "scrolled": true
   },
   "outputs": [
    {
     "data": {
      "text/plain": [
       "[('excellent', 0.1701252),\n",
       " ('attentive', 0.076275),\n",
       " ('friendly', 0.061128594),\n",
       " ('customer', 0.044999354),\n",
       " ('prompt', 0.03310825),\n",
       " ('outstanding', 0.025483564),\n",
       " ('fantastic', 0.02325319),\n",
       " ('efficient', 0.02088812),\n",
       " ('quick', 0.017085822),\n",
       " ('pleasant', 0.016566245)]"
      ]
     },
     "execution_count": 39,
     "metadata": {},
     "output_type": "execute_result"
    }
   ],
   "source": [
    "from gensim.models import Word2Vec\n",
    "\n",
    "model_ted = Word2Vec(sentences = good_token_clean, window=10, min_count=1, workers=4, sg=0)\n",
    "model_ted.predict_output_word(['service'], topn=10)"
   ]
  },
  {
   "cell_type": "code",
   "execution_count": 40,
   "id": "287980d4",
   "metadata": {},
   "outputs": [
    {
     "data": {
      "text/plain": [
       "[('fast', 0.034968767),\n",
       " ('reasonable', 0.030071557),\n",
       " ('excellent', 0.0236679),\n",
       " ('delicious', 0.021323845),\n",
       " ('quality', 0.01976112),\n",
       " ('decent', 0.009081867),\n",
       " ('amazing', 0.007807845),\n",
       " ('priced', 0.007530482),\n",
       " ('fantastic', 0.0071881055),\n",
       " ('cheap', 0.007105498)]"
      ]
     },
     "execution_count": 40,
     "metadata": {},
     "output_type": "execute_result"
    }
   ],
   "source": [
    "model_ted = Word2Vec(sentences = good_token_clean, window=10, min_count=1, workers=4, sg=0)\n",
    "model_ted.predict_output_word(['food'], topn=10)"
   ]
  },
  {
   "cell_type": "code",
   "execution_count": 41,
   "id": "cdcab64f",
   "metadata": {
    "scrolled": false
   },
   "outputs": [
    {
     "data": {
      "text/plain": [
       "[('clean', 0.29289111),\n",
       " ('modern', 0.044732347),\n",
       " ('comfortable', 0.02917764),\n",
       " ('welcoming', 0.02793666),\n",
       " ('rooms', 0.023923494),\n",
       " ('spacious', 0.023798611),\n",
       " ('decor', 0.018089175),\n",
       " ('inviting', 0.013672311),\n",
       " ('cozy', 0.013273399),\n",
       " ('comfy', 0.012719782)]"
      ]
     },
     "execution_count": 41,
     "metadata": {},
     "output_type": "execute_result"
    }
   ],
   "source": [
    "model_ted = Word2Vec(sentences = good_token_clean, window=10, min_count=1, workers=4, sg=0)\n",
    "model_ted.predict_output_word(['clean'], topn=10)"
   ]
  },
  {
   "cell_type": "code",
   "execution_count": 159,
   "id": "322429a9",
   "metadata": {},
   "outputs": [],
   "source": [
    "data_bad = data[data['rating'] == 'bad']"
   ]
  },
  {
   "cell_type": "code",
   "execution_count": 160,
   "id": "796cd64e",
   "metadata": {},
   "outputs": [],
   "source": [
    "bad_reviews = ' '.join(data_bad.text)\n",
    "\n",
    "## split the long string into sentences\n",
    "sentences_bad = sent_tokenize(bad_reviews)\n",
    "bad_token_clean = list()\n",
    "## get tokens for each sentence\n",
    "for sentence in sentences_bad:\n",
    "    eng_word = re.findall(r'[A-Za-z\\-]+', sentence)\n",
    "    bad_token_clean.append([i.lower() for i in eng_word if i.lower() not in my_stop_words])"
   ]
  },
  {
   "cell_type": "code",
   "execution_count": 161,
   "id": "35b6e5f8",
   "metadata": {},
   "outputs": [
    {
     "data": {
      "text/plain": [
       "[('customer', 0.113932244),\n",
       " ('service', 0.10290939),\n",
       " ('experience', 0.025602335),\n",
       " ('terrible', 0.019734338),\n",
       " ('worst', 0.019024272),\n",
       " ('horrible', 0.012204978),\n",
       " ('poor', 0.009223159),\n",
       " ('bad', 0.0092033325),\n",
       " ('ive', 0.0062656403),\n",
       " ('great', 0.0057819057)]"
      ]
     },
     "execution_count": 161,
     "metadata": {},
     "output_type": "execute_result"
    }
   ],
   "source": [
    "from gensim.models import Word2Vec\n",
    "\n",
    "model_ted = Word2Vec(sentences = bad_token_clean, window=10, min_count=1, workers=4, sg=0)\n",
    "model_ted.predict_output_word(['service'], topn=10)"
   ]
  },
  {
   "cell_type": "code",
   "execution_count": 76,
   "id": "15e2c838",
   "metadata": {},
   "outputs": [],
   "source": [
    "def clean_text(txt_in):\n",
    "    x = re.sub(\"[^A-Za-z0-9]+\",\" \", txt_in).strip().lower()\n",
    "    return x"
   ]
  },
  {
   "cell_type": "code",
   "execution_count": 77,
   "id": "6c23d3e3",
   "metadata": {},
   "outputs": [],
   "source": [
    "data['clean_text'] = data['text'].apply(lambda x: clean_text(x))"
   ]
  },
  {
   "cell_type": "code",
   "execution_count": 79,
   "id": "a661c45b",
   "metadata": {},
   "outputs": [],
   "source": [
    "# Load SentimentIntensityAnalyzer\n",
    "from nltk.sentiment.vader import SentimentIntensityAnalyzer\n",
    "\n",
    "# Instantiate new SentimentIntensityAnalyzer\n",
    "sid = SentimentIntensityAnalyzer()\n",
    "\n",
    "# Generate sentiment scores\n",
    "data['sentiment_scores'] = data['clean_text'].apply(sid.polarity_scores)\n",
    "data['sentiment'] = data['sentiment_scores'].apply(lambda x: x['compound'])"
   ]
  },
  {
   "cell_type": "code",
   "execution_count": 81,
   "id": "cd0b36f8",
   "metadata": {},
   "outputs": [
    {
     "data": {
      "text/html": [
       "<div>\n",
       "<style scoped>\n",
       "    .dataframe tbody tr th:only-of-type {\n",
       "        vertical-align: middle;\n",
       "    }\n",
       "\n",
       "    .dataframe tbody tr th {\n",
       "        vertical-align: top;\n",
       "    }\n",
       "\n",
       "    .dataframe thead th {\n",
       "        text-align: right;\n",
       "    }\n",
       "</style>\n",
       "<table border=\"1\" class=\"dataframe\">\n",
       "  <thead>\n",
       "    <tr style=\"text-align: right;\">\n",
       "      <th></th>\n",
       "      <th>text</th>\n",
       "      <th>stars</th>\n",
       "      <th>rating</th>\n",
       "      <th>sentiment_scores</th>\n",
       "      <th>sentiment</th>\n",
       "      <th>clean_text</th>\n",
       "    </tr>\n",
       "  </thead>\n",
       "  <tbody>\n",
       "    <tr>\n",
       "      <th>7850</th>\n",
       "      <td>I have a hard time imagining a better breakfas...</td>\n",
       "      <td>5</td>\n",
       "      <td>good</td>\n",
       "      <td>{'neg': 0.115, 'neu': 0.543, 'pos': 0.342, 'co...</td>\n",
       "      <td>0.8442</td>\n",
       "      <td>i have a hard time imagining a better breakfas...</td>\n",
       "    </tr>\n",
       "    <tr>\n",
       "      <th>10109</th>\n",
       "      <td>This is probably my newest favorite Thai place...</td>\n",
       "      <td>5</td>\n",
       "      <td>good</td>\n",
       "      <td>{'neg': 0.014, 'neu': 0.872, 'pos': 0.114, 'co...</td>\n",
       "      <td>0.8934</td>\n",
       "      <td>this is probably my newest favorite thai place...</td>\n",
       "    </tr>\n",
       "    <tr>\n",
       "      <th>16467</th>\n",
       "      <td>Macs is my favorite bar in Old City thus far. ...</td>\n",
       "      <td>5</td>\n",
       "      <td>good</td>\n",
       "      <td>{'neg': 0.0, 'neu': 0.741, 'pos': 0.259, 'comp...</td>\n",
       "      <td>0.9864</td>\n",
       "      <td>macs is my favorite bar in old city thus far t...</td>\n",
       "    </tr>\n",
       "    <tr>\n",
       "      <th>4437</th>\n",
       "      <td>The gentleman in the truck was very nice so he...</td>\n",
       "      <td>5</td>\n",
       "      <td>good</td>\n",
       "      <td>{'neg': 0.0, 'neu': 0.698, 'pos': 0.302, 'comp...</td>\n",
       "      <td>0.9181</td>\n",
       "      <td>the gentleman in the truck was very nice so he...</td>\n",
       "    </tr>\n",
       "    <tr>\n",
       "      <th>5979</th>\n",
       "      <td>Stopped in for dinner alone while taking a bre...</td>\n",
       "      <td>1</td>\n",
       "      <td>bad</td>\n",
       "      <td>{'neg': 0.102, 'neu': 0.854, 'pos': 0.044, 'co...</td>\n",
       "      <td>-0.4201</td>\n",
       "      <td>stopped in for dinner alone while taking a bre...</td>\n",
       "    </tr>\n",
       "  </tbody>\n",
       "</table>\n",
       "</div>"
      ],
      "text/plain": [
       "                                                    text  stars rating  \\\n",
       "7850   I have a hard time imagining a better breakfas...      5   good   \n",
       "10109  This is probably my newest favorite Thai place...      5   good   \n",
       "16467  Macs is my favorite bar in Old City thus far. ...      5   good   \n",
       "4437   The gentleman in the truck was very nice so he...      5   good   \n",
       "5979   Stopped in for dinner alone while taking a bre...      1    bad   \n",
       "\n",
       "                                        sentiment_scores  sentiment  \\\n",
       "7850   {'neg': 0.115, 'neu': 0.543, 'pos': 0.342, 'co...     0.8442   \n",
       "10109  {'neg': 0.014, 'neu': 0.872, 'pos': 0.114, 'co...     0.8934   \n",
       "16467  {'neg': 0.0, 'neu': 0.741, 'pos': 0.259, 'comp...     0.9864   \n",
       "4437   {'neg': 0.0, 'neu': 0.698, 'pos': 0.302, 'comp...     0.9181   \n",
       "5979   {'neg': 0.102, 'neu': 0.854, 'pos': 0.044, 'co...    -0.4201   \n",
       "\n",
       "                                              clean_text  \n",
       "7850   i have a hard time imagining a better breakfas...  \n",
       "10109  this is probably my newest favorite thai place...  \n",
       "16467  macs is my favorite bar in old city thus far t...  \n",
       "4437   the gentleman in the truck was very nice so he...  \n",
       "5979   stopped in for dinner alone while taking a bre...  "
      ]
     },
     "execution_count": 81,
     "metadata": {},
     "output_type": "execute_result"
    }
   ],
   "source": [
    "data.sample(5)"
   ]
  },
  {
   "cell_type": "code",
   "execution_count": 82,
   "id": "0ae6b92e",
   "metadata": {},
   "outputs": [],
   "source": [
    "## drop neutral rating, 3 stars\n",
    "data_update = data.drop(data[data.stars == 3].index)"
   ]
  },
  {
   "cell_type": "code",
   "execution_count": 83,
   "id": "e612d044",
   "metadata": {
    "scrolled": false
   },
   "outputs": [
    {
     "data": {
      "text/html": [
       "<div>\n",
       "<style scoped>\n",
       "    .dataframe tbody tr th:only-of-type {\n",
       "        vertical-align: middle;\n",
       "    }\n",
       "\n",
       "    .dataframe tbody tr th {\n",
       "        vertical-align: top;\n",
       "    }\n",
       "\n",
       "    .dataframe thead th {\n",
       "        text-align: right;\n",
       "    }\n",
       "</style>\n",
       "<table border=\"1\" class=\"dataframe\">\n",
       "  <thead>\n",
       "    <tr style=\"text-align: right;\">\n",
       "      <th></th>\n",
       "      <th>text</th>\n",
       "      <th>stars</th>\n",
       "      <th>rating</th>\n",
       "      <th>sentiment_scores</th>\n",
       "      <th>sentiment</th>\n",
       "      <th>clean_text</th>\n",
       "    </tr>\n",
       "  </thead>\n",
       "  <tbody>\n",
       "    <tr>\n",
       "      <th>1</th>\n",
       "      <td>Ive taken a lot of spin classes over the years...</td>\n",
       "      <td>5</td>\n",
       "      <td>good</td>\n",
       "      <td>{'neg': 0.05, 'neu': 0.708, 'pos': 0.242, 'com...</td>\n",
       "      <td>0.9855</td>\n",
       "      <td>ive taken a lot of spin classes over the years...</td>\n",
       "    </tr>\n",
       "    <tr>\n",
       "      <th>3</th>\n",
       "      <td>Wow!  Yummy, different,  delicious.   Our favo...</td>\n",
       "      <td>5</td>\n",
       "      <td>good</td>\n",
       "      <td>{'neg': 0.0, 'neu': 0.681, 'pos': 0.319, 'comp...</td>\n",
       "      <td>0.9509</td>\n",
       "      <td>wow yummy different delicious our favorite is ...</td>\n",
       "    </tr>\n",
       "    <tr>\n",
       "      <th>4</th>\n",
       "      <td>Cute interior and owner (?) gave us tour of up...</td>\n",
       "      <td>4</td>\n",
       "      <td>good</td>\n",
       "      <td>{'neg': 0.017, 'neu': 0.716, 'pos': 0.267, 'co...</td>\n",
       "      <td>0.9798</td>\n",
       "      <td>cute interior and owner gave us tour of upcomi...</td>\n",
       "    </tr>\n",
       "    <tr>\n",
       "      <th>5</th>\n",
       "      <td>I am a long term frequent customer of this est...</td>\n",
       "      <td>1</td>\n",
       "      <td>bad</td>\n",
       "      <td>{'neg': 0.133, 'neu': 0.672, 'pos': 0.195, 'co...</td>\n",
       "      <td>0.5859</td>\n",
       "      <td>i am a long term frequent customer of this est...</td>\n",
       "    </tr>\n",
       "    <tr>\n",
       "      <th>6</th>\n",
       "      <td>Loved this tour! I grabbed a groupon and the p...</td>\n",
       "      <td>5</td>\n",
       "      <td>good</td>\n",
       "      <td>{'neg': 0.031, 'neu': 0.814, 'pos': 0.155, 'co...</td>\n",
       "      <td>0.9507</td>\n",
       "      <td>loved this tour i grabbed a groupon and the pr...</td>\n",
       "    </tr>\n",
       "    <tr>\n",
       "      <th>7</th>\n",
       "      <td>Amazingly amazing wings and homemade bleu chee...</td>\n",
       "      <td>5</td>\n",
       "      <td>good</td>\n",
       "      <td>{'neg': 0.0, 'neu': 0.477, 'pos': 0.523, 'comp...</td>\n",
       "      <td>0.9678</td>\n",
       "      <td>amazingly amazing wings and homemade bleu chee...</td>\n",
       "    </tr>\n",
       "    <tr>\n",
       "      <th>10</th>\n",
       "      <td>My experience with Shalimar was nothing but wo...</td>\n",
       "      <td>5</td>\n",
       "      <td>good</td>\n",
       "      <td>{'neg': 0.099, 'neu': 0.757, 'pos': 0.144, 'co...</td>\n",
       "      <td>0.9078</td>\n",
       "      <td>my experience with shalimar was nothing but wo...</td>\n",
       "    </tr>\n",
       "    <tr>\n",
       "      <th>11</th>\n",
       "      <td>Locals recommended Milktooth, and its an amazi...</td>\n",
       "      <td>4</td>\n",
       "      <td>good</td>\n",
       "      <td>{'neg': 0.0, 'neu': 0.581, 'pos': 0.419, 'comp...</td>\n",
       "      <td>0.8442</td>\n",
       "      <td>locals recommended milktooth and its an amazin...</td>\n",
       "    </tr>\n",
       "    <tr>\n",
       "      <th>12</th>\n",
       "      <td>Love going here for happy hour or dinner!  Gre...</td>\n",
       "      <td>4</td>\n",
       "      <td>good</td>\n",
       "      <td>{'neg': 0.0, 'neu': 0.804, 'pos': 0.196, 'comp...</td>\n",
       "      <td>0.8047</td>\n",
       "      <td>love going here for happy hour or dinner great...</td>\n",
       "    </tr>\n",
       "    <tr>\n",
       "      <th>13</th>\n",
       "      <td>Good food--loved the gnocchi with marinara\\nth...</td>\n",
       "      <td>4</td>\n",
       "      <td>good</td>\n",
       "      <td>{'neg': 0.0, 'neu': 0.733, 'pos': 0.267, 'comp...</td>\n",
       "      <td>0.8481</td>\n",
       "      <td>good food loved the gnocchi with marinara the ...</td>\n",
       "    </tr>\n",
       "  </tbody>\n",
       "</table>\n",
       "</div>"
      ],
      "text/plain": [
       "                                                 text  stars rating  \\\n",
       "1   Ive taken a lot of spin classes over the years...      5   good   \n",
       "3   Wow!  Yummy, different,  delicious.   Our favo...      5   good   \n",
       "4   Cute interior and owner (?) gave us tour of up...      4   good   \n",
       "5   I am a long term frequent customer of this est...      1    bad   \n",
       "6   Loved this tour! I grabbed a groupon and the p...      5   good   \n",
       "7   Amazingly amazing wings and homemade bleu chee...      5   good   \n",
       "10  My experience with Shalimar was nothing but wo...      5   good   \n",
       "11  Locals recommended Milktooth, and its an amazi...      4   good   \n",
       "12  Love going here for happy hour or dinner!  Gre...      4   good   \n",
       "13  Good food--loved the gnocchi with marinara\\nth...      4   good   \n",
       "\n",
       "                                     sentiment_scores  sentiment  \\\n",
       "1   {'neg': 0.05, 'neu': 0.708, 'pos': 0.242, 'com...     0.9855   \n",
       "3   {'neg': 0.0, 'neu': 0.681, 'pos': 0.319, 'comp...     0.9509   \n",
       "4   {'neg': 0.017, 'neu': 0.716, 'pos': 0.267, 'co...     0.9798   \n",
       "5   {'neg': 0.133, 'neu': 0.672, 'pos': 0.195, 'co...     0.5859   \n",
       "6   {'neg': 0.031, 'neu': 0.814, 'pos': 0.155, 'co...     0.9507   \n",
       "7   {'neg': 0.0, 'neu': 0.477, 'pos': 0.523, 'comp...     0.9678   \n",
       "10  {'neg': 0.099, 'neu': 0.757, 'pos': 0.144, 'co...     0.9078   \n",
       "11  {'neg': 0.0, 'neu': 0.581, 'pos': 0.419, 'comp...     0.8442   \n",
       "12  {'neg': 0.0, 'neu': 0.804, 'pos': 0.196, 'comp...     0.8047   \n",
       "13  {'neg': 0.0, 'neu': 0.733, 'pos': 0.267, 'comp...     0.8481   \n",
       "\n",
       "                                           clean_text  \n",
       "1   ive taken a lot of spin classes over the years...  \n",
       "3   wow yummy different delicious our favorite is ...  \n",
       "4   cute interior and owner gave us tour of upcomi...  \n",
       "5   i am a long term frequent customer of this est...  \n",
       "6   loved this tour i grabbed a groupon and the pr...  \n",
       "7   amazingly amazing wings and homemade bleu chee...  \n",
       "10  my experience with shalimar was nothing but wo...  \n",
       "11  locals recommended milktooth and its an amazin...  \n",
       "12  love going here for happy hour or dinner great...  \n",
       "13  good food loved the gnocchi with marinara the ...  "
      ]
     },
     "execution_count": 83,
     "metadata": {},
     "output_type": "execute_result"
    }
   ],
   "source": [
    "data_update.head(10)"
   ]
  },
  {
   "cell_type": "code",
   "execution_count": 84,
   "id": "4349adae",
   "metadata": {},
   "outputs": [],
   "source": [
    "## create function for good = 1 and bad = 0\n",
    "def label(l):\n",
    "    if l == 5:\n",
    "        return 1\n",
    "    elif l == 4:\n",
    "        return 1\n",
    "    elif l == 2:\n",
    "        return 0\n",
    "    else:\n",
    "        return 0"
   ]
  },
  {
   "cell_type": "code",
   "execution_count": 85,
   "id": "8241798d",
   "metadata": {},
   "outputs": [],
   "source": [
    "## apply function\n",
    "data_update['label'] = data_update['stars'].apply(label)"
   ]
  },
  {
   "cell_type": "code",
   "execution_count": 86,
   "id": "6b12ee92",
   "metadata": {
    "scrolled": true
   },
   "outputs": [
    {
     "data": {
      "text/html": [
       "<div>\n",
       "<style scoped>\n",
       "    .dataframe tbody tr th:only-of-type {\n",
       "        vertical-align: middle;\n",
       "    }\n",
       "\n",
       "    .dataframe tbody tr th {\n",
       "        vertical-align: top;\n",
       "    }\n",
       "\n",
       "    .dataframe thead th {\n",
       "        text-align: right;\n",
       "    }\n",
       "</style>\n",
       "<table border=\"1\" class=\"dataframe\">\n",
       "  <thead>\n",
       "    <tr style=\"text-align: right;\">\n",
       "      <th></th>\n",
       "      <th>text</th>\n",
       "      <th>stars</th>\n",
       "      <th>rating</th>\n",
       "      <th>sentiment_scores</th>\n",
       "      <th>sentiment</th>\n",
       "      <th>clean_text</th>\n",
       "      <th>label</th>\n",
       "    </tr>\n",
       "  </thead>\n",
       "  <tbody>\n",
       "    <tr>\n",
       "      <th>1</th>\n",
       "      <td>Ive taken a lot of spin classes over the years...</td>\n",
       "      <td>5</td>\n",
       "      <td>good</td>\n",
       "      <td>{'neg': 0.05, 'neu': 0.708, 'pos': 0.242, 'com...</td>\n",
       "      <td>0.9855</td>\n",
       "      <td>ive taken a lot of spin classes over the years...</td>\n",
       "      <td>1</td>\n",
       "    </tr>\n",
       "    <tr>\n",
       "      <th>3</th>\n",
       "      <td>Wow!  Yummy, different,  delicious.   Our favo...</td>\n",
       "      <td>5</td>\n",
       "      <td>good</td>\n",
       "      <td>{'neg': 0.0, 'neu': 0.681, 'pos': 0.319, 'comp...</td>\n",
       "      <td>0.9509</td>\n",
       "      <td>wow yummy different delicious our favorite is ...</td>\n",
       "      <td>1</td>\n",
       "    </tr>\n",
       "    <tr>\n",
       "      <th>4</th>\n",
       "      <td>Cute interior and owner (?) gave us tour of up...</td>\n",
       "      <td>4</td>\n",
       "      <td>good</td>\n",
       "      <td>{'neg': 0.017, 'neu': 0.716, 'pos': 0.267, 'co...</td>\n",
       "      <td>0.9798</td>\n",
       "      <td>cute interior and owner gave us tour of upcomi...</td>\n",
       "      <td>1</td>\n",
       "    </tr>\n",
       "    <tr>\n",
       "      <th>5</th>\n",
       "      <td>I am a long term frequent customer of this est...</td>\n",
       "      <td>1</td>\n",
       "      <td>bad</td>\n",
       "      <td>{'neg': 0.133, 'neu': 0.672, 'pos': 0.195, 'co...</td>\n",
       "      <td>0.5859</td>\n",
       "      <td>i am a long term frequent customer of this est...</td>\n",
       "      <td>0</td>\n",
       "    </tr>\n",
       "    <tr>\n",
       "      <th>6</th>\n",
       "      <td>Loved this tour! I grabbed a groupon and the p...</td>\n",
       "      <td>5</td>\n",
       "      <td>good</td>\n",
       "      <td>{'neg': 0.031, 'neu': 0.814, 'pos': 0.155, 'co...</td>\n",
       "      <td>0.9507</td>\n",
       "      <td>loved this tour i grabbed a groupon and the pr...</td>\n",
       "      <td>1</td>\n",
       "    </tr>\n",
       "    <tr>\n",
       "      <th>7</th>\n",
       "      <td>Amazingly amazing wings and homemade bleu chee...</td>\n",
       "      <td>5</td>\n",
       "      <td>good</td>\n",
       "      <td>{'neg': 0.0, 'neu': 0.477, 'pos': 0.523, 'comp...</td>\n",
       "      <td>0.9678</td>\n",
       "      <td>amazingly amazing wings and homemade bleu chee...</td>\n",
       "      <td>1</td>\n",
       "    </tr>\n",
       "    <tr>\n",
       "      <th>10</th>\n",
       "      <td>My experience with Shalimar was nothing but wo...</td>\n",
       "      <td>5</td>\n",
       "      <td>good</td>\n",
       "      <td>{'neg': 0.099, 'neu': 0.757, 'pos': 0.144, 'co...</td>\n",
       "      <td>0.9078</td>\n",
       "      <td>my experience with shalimar was nothing but wo...</td>\n",
       "      <td>1</td>\n",
       "    </tr>\n",
       "    <tr>\n",
       "      <th>11</th>\n",
       "      <td>Locals recommended Milktooth, and its an amazi...</td>\n",
       "      <td>4</td>\n",
       "      <td>good</td>\n",
       "      <td>{'neg': 0.0, 'neu': 0.581, 'pos': 0.419, 'comp...</td>\n",
       "      <td>0.8442</td>\n",
       "      <td>locals recommended milktooth and its an amazin...</td>\n",
       "      <td>1</td>\n",
       "    </tr>\n",
       "    <tr>\n",
       "      <th>12</th>\n",
       "      <td>Love going here for happy hour or dinner!  Gre...</td>\n",
       "      <td>4</td>\n",
       "      <td>good</td>\n",
       "      <td>{'neg': 0.0, 'neu': 0.804, 'pos': 0.196, 'comp...</td>\n",
       "      <td>0.8047</td>\n",
       "      <td>love going here for happy hour or dinner great...</td>\n",
       "      <td>1</td>\n",
       "    </tr>\n",
       "    <tr>\n",
       "      <th>13</th>\n",
       "      <td>Good food--loved the gnocchi with marinara\\nth...</td>\n",
       "      <td>4</td>\n",
       "      <td>good</td>\n",
       "      <td>{'neg': 0.0, 'neu': 0.733, 'pos': 0.267, 'comp...</td>\n",
       "      <td>0.8481</td>\n",
       "      <td>good food loved the gnocchi with marinara the ...</td>\n",
       "      <td>1</td>\n",
       "    </tr>\n",
       "  </tbody>\n",
       "</table>\n",
       "</div>"
      ],
      "text/plain": [
       "                                                 text  stars rating  \\\n",
       "1   Ive taken a lot of spin classes over the years...      5   good   \n",
       "3   Wow!  Yummy, different,  delicious.   Our favo...      5   good   \n",
       "4   Cute interior and owner (?) gave us tour of up...      4   good   \n",
       "5   I am a long term frequent customer of this est...      1    bad   \n",
       "6   Loved this tour! I grabbed a groupon and the p...      5   good   \n",
       "7   Amazingly amazing wings and homemade bleu chee...      5   good   \n",
       "10  My experience with Shalimar was nothing but wo...      5   good   \n",
       "11  Locals recommended Milktooth, and its an amazi...      4   good   \n",
       "12  Love going here for happy hour or dinner!  Gre...      4   good   \n",
       "13  Good food--loved the gnocchi with marinara\\nth...      4   good   \n",
       "\n",
       "                                     sentiment_scores  sentiment  \\\n",
       "1   {'neg': 0.05, 'neu': 0.708, 'pos': 0.242, 'com...     0.9855   \n",
       "3   {'neg': 0.0, 'neu': 0.681, 'pos': 0.319, 'comp...     0.9509   \n",
       "4   {'neg': 0.017, 'neu': 0.716, 'pos': 0.267, 'co...     0.9798   \n",
       "5   {'neg': 0.133, 'neu': 0.672, 'pos': 0.195, 'co...     0.5859   \n",
       "6   {'neg': 0.031, 'neu': 0.814, 'pos': 0.155, 'co...     0.9507   \n",
       "7   {'neg': 0.0, 'neu': 0.477, 'pos': 0.523, 'comp...     0.9678   \n",
       "10  {'neg': 0.099, 'neu': 0.757, 'pos': 0.144, 'co...     0.9078   \n",
       "11  {'neg': 0.0, 'neu': 0.581, 'pos': 0.419, 'comp...     0.8442   \n",
       "12  {'neg': 0.0, 'neu': 0.804, 'pos': 0.196, 'comp...     0.8047   \n",
       "13  {'neg': 0.0, 'neu': 0.733, 'pos': 0.267, 'comp...     0.8481   \n",
       "\n",
       "                                           clean_text  label  \n",
       "1   ive taken a lot of spin classes over the years...      1  \n",
       "3   wow yummy different delicious our favorite is ...      1  \n",
       "4   cute interior and owner gave us tour of upcomi...      1  \n",
       "5   i am a long term frequent customer of this est...      0  \n",
       "6   loved this tour i grabbed a groupon and the pr...      1  \n",
       "7   amazingly amazing wings and homemade bleu chee...      1  \n",
       "10  my experience with shalimar was nothing but wo...      1  \n",
       "11  locals recommended milktooth and its an amazin...      1  \n",
       "12  love going here for happy hour or dinner great...      1  \n",
       "13  good food loved the gnocchi with marinara the ...      1  "
      ]
     },
     "execution_count": 86,
     "metadata": {},
     "output_type": "execute_result"
    }
   ],
   "source": [
    "data_update.head(10)"
   ]
  },
  {
   "cell_type": "code",
   "execution_count": 87,
   "id": "e2f37671",
   "metadata": {},
   "outputs": [],
   "source": [
    "from sklearn.feature_extraction.text import CountVectorizer\n",
    "from sklearn.model_selection import train_test_split\n",
    "\n",
    "# vectorization\n",
    "vect = CountVectorizer(max_features=300, stop_words=my_stop_words)\n",
    "vect.fit(data_update.clean_text)\n",
    "X = vect.transform(data_update.clean_text)\n",
    "X_df = pd.DataFrame(X.toarray(), columns=vect.get_feature_names())\n",
    "\n",
    "# Define the vector of targets and matrix of features\n",
    "y = data_update.label\n",
    "X = X_df\n",
    "# Perform the train-test split\n",
    "X_train, X_test, y_train, y_test = train_test_split(X, y, test_size=0.2, random_state=1234, stratify=y)"
   ]
  },
  {
   "cell_type": "code",
   "execution_count": 88,
   "id": "33229c5c",
   "metadata": {},
   "outputs": [
    {
     "data": {
      "text/plain": [
       "(14208, 300)"
      ]
     },
     "execution_count": 88,
     "metadata": {},
     "output_type": "execute_result"
    }
   ],
   "source": [
    "X_train.shape"
   ]
  },
  {
   "cell_type": "code",
   "execution_count": 89,
   "id": "634ed12c",
   "metadata": {},
   "outputs": [],
   "source": [
    "## logistic regression\n",
    "from sklearn.linear_model import LogisticRegression\n",
    "log_reg = LogisticRegression().fit(X_train, y_train)\n",
    "\n",
    "y_pred_lg = log_reg.predict(X_test)\n",
    "\n",
    "# find the most informative words\n",
    "log_odds = log_reg.coef_[0]\n",
    "coeff = pd.DataFrame(log_odds, X.columns, columns=['coef'])\\\n",
    "            .sort_values(by='coef', ascending=False)"
   ]
  },
  {
   "cell_type": "code",
   "execution_count": 90,
   "id": "3a2819be",
   "metadata": {
    "scrolled": true
   },
   "outputs": [
    {
     "name": "stdout",
     "output_type": "stream",
     "text": [
      "               coef\n",
      "perfectly  2.389181\n",
      "amazing    2.182525\n",
      "excellent  2.085300\n",
      "delicious  2.084201\n",
      "awesome    1.925646\n",
      "...             ...\n",
      "tasted    -1.139118\n",
      "ok        -1.155303\n",
      "cold      -1.193473\n",
      "money     -1.343858\n",
      "wont      -1.500470\n",
      "\n",
      "[300 rows x 1 columns]\n"
     ]
    }
   ],
   "source": [
    "print(coeff)"
   ]
  },
  {
   "cell_type": "code",
   "execution_count": 91,
   "id": "8c44ff3f",
   "metadata": {},
   "outputs": [
    {
     "name": "stdout",
     "output_type": "stream",
     "text": [
      "Accuracy: 0.8975225225225225\n"
     ]
    }
   ],
   "source": [
    "from sklearn import metrics\n",
    "\n",
    "print(\"Accuracy:\", metrics.accuracy_score(y_test, y_pred_lg))"
   ]
  },
  {
   "cell_type": "code",
   "execution_count": 92,
   "id": "f71247eb",
   "metadata": {},
   "outputs": [],
   "source": [
    "## naive bayes\n",
    "from sklearn.naive_bayes import MultinomialNB\n",
    "\n",
    "nb_classifier = MultinomialNB()\n",
    "nb_classifier.fit(X_train, y_train)\n",
    "nb_pred = nb_classifier.predict(X_test)"
   ]
  },
  {
   "cell_type": "code",
   "execution_count": 93,
   "id": "18198144",
   "metadata": {
    "scrolled": false
   },
   "outputs": [
    {
     "name": "stdout",
     "output_type": "stream",
     "text": [
      "[1 1 1 ... 0 1 0]\n"
     ]
    }
   ],
   "source": [
    "print(nb_pred)"
   ]
  },
  {
   "cell_type": "code",
   "execution_count": 94,
   "id": "f12b5be8",
   "metadata": {
    "scrolled": true
   },
   "outputs": [
    {
     "name": "stdout",
     "output_type": "stream",
     "text": [
      "Accuracy: 0.8800675675675675\n"
     ]
    }
   ],
   "source": [
    "print(\"Accuracy:\", metrics.accuracy_score(y_test, nb_pred))"
   ]
  },
  {
   "cell_type": "code",
   "execution_count": 95,
   "id": "485e73ef",
   "metadata": {},
   "outputs": [],
   "source": [
    "models = {}\n",
    "\n",
    "# Logistic Regression\n",
    "from sklearn.linear_model import LogisticRegression\n",
    "models['Logistic Regression'] = LogisticRegression()\n",
    "\n",
    "# Support Vector Machines\n",
    "from sklearn.svm import LinearSVC\n",
    "models['Support Vector Machines'] = LinearSVC()\n",
    "\n",
    "\n",
    "# Naive Bayes\n",
    "from sklearn.naive_bayes import MultinomialNB\n",
    "models['Naive Bayes'] = MultinomialNB()\n",
    "\n",
    "# Random Forest\n",
    "from sklearn.ensemble import RandomForestClassifier\n",
    "models['Random Forest Classifier'] = RandomForestClassifier()"
   ]
  },
  {
   "cell_type": "code",
   "execution_count": 96,
   "id": "74bd1811",
   "metadata": {},
   "outputs": [
    {
     "name": "stderr",
     "output_type": "stream",
     "text": [
      "/opt/anaconda3/lib/python3.8/site-packages/sklearn/svm/_base.py:985: ConvergenceWarning: Liblinear failed to converge, increase the number of iterations.\n",
      "  warnings.warn(\"Liblinear failed to converge, increase \"\n"
     ]
    }
   ],
   "source": [
    "from sklearn.metrics import accuracy_score, precision_score, recall_score\n",
    "\n",
    "accuracy, precision, recall = {}, {}, {}\n",
    "\n",
    "for key in models.keys():\n",
    "    \n",
    "    # Fit the classifier model\n",
    "    models[key].fit(X_train, y_train)\n",
    "    \n",
    "    # Prediction \n",
    "    predictions = models[key].predict(X_test)\n",
    "    \n",
    "    # Calculate Accuracy, Precision and Recall Metrics\n",
    "    accuracy[key] = accuracy_score(predictions, y_test)\n",
    "    precision[key] = precision_score(predictions, y_test)\n",
    "    recall[key] = recall_score(predictions, y_test)"
   ]
  },
  {
   "cell_type": "code",
   "execution_count": 97,
   "id": "bae89748",
   "metadata": {
    "scrolled": false
   },
   "outputs": [
    {
     "data": {
      "text/html": [
       "<div>\n",
       "<style scoped>\n",
       "    .dataframe tbody tr th:only-of-type {\n",
       "        vertical-align: middle;\n",
       "    }\n",
       "\n",
       "    .dataframe tbody tr th {\n",
       "        vertical-align: top;\n",
       "    }\n",
       "\n",
       "    .dataframe thead th {\n",
       "        text-align: right;\n",
       "    }\n",
       "</style>\n",
       "<table border=\"1\" class=\"dataframe\">\n",
       "  <thead>\n",
       "    <tr style=\"text-align: right;\">\n",
       "      <th></th>\n",
       "      <th>Accuracy</th>\n",
       "      <th>Precision</th>\n",
       "      <th>Recall</th>\n",
       "    </tr>\n",
       "  </thead>\n",
       "  <tbody>\n",
       "    <tr>\n",
       "      <th>Logistic Regression</th>\n",
       "      <td>0.897523</td>\n",
       "      <td>0.952245</td>\n",
       "      <td>0.920744</td>\n",
       "    </tr>\n",
       "    <tr>\n",
       "      <th>Support Vector Machines</th>\n",
       "      <td>0.895833</td>\n",
       "      <td>0.952245</td>\n",
       "      <td>0.918845</td>\n",
       "    </tr>\n",
       "    <tr>\n",
       "      <th>Naive Bayes</th>\n",
       "      <td>0.880068</td>\n",
       "      <td>0.937634</td>\n",
       "      <td>0.912908</td>\n",
       "    </tr>\n",
       "    <tr>\n",
       "      <th>Random Forest Classifier</th>\n",
       "      <td>0.881757</td>\n",
       "      <td>0.956165</td>\n",
       "      <td>0.900336</td>\n",
       "    </tr>\n",
       "  </tbody>\n",
       "</table>\n",
       "</div>"
      ],
      "text/plain": [
       "                          Accuracy  Precision    Recall\n",
       "Logistic Regression       0.897523   0.952245  0.920744\n",
       "Support Vector Machines   0.895833   0.952245  0.918845\n",
       "Naive Bayes               0.880068   0.937634  0.912908\n",
       "Random Forest Classifier  0.881757   0.956165  0.900336"
      ]
     },
     "execution_count": 97,
     "metadata": {},
     "output_type": "execute_result"
    }
   ],
   "source": [
    "df_model = pd.DataFrame(index=models.keys(), columns=['Accuracy', 'Precision', 'Recall'])\n",
    "df_model['Accuracy'] = accuracy.values()\n",
    "df_model['Precision'] = precision.values()\n",
    "df_model['Recall'] = recall.values()\n",
    "\n",
    "df_model"
   ]
  },
  {
   "cell_type": "code",
   "execution_count": 169,
   "id": "e3a3ce5e",
   "metadata": {},
   "outputs": [],
   "source": [
    "from sklearn.feature_extraction.text import CountVectorizer, TfidfVectorizer\n",
    "from sklearn.svm import LinearSVC\n",
    "from sklearn.metrics import classification_report \n",
    "\n",
    "tfidf = TfidfVectorizer(max_features = 20000, ngram_range = (1,3), analyzer ='char')\n",
    "\n",
    "X = tfidf.fit_transform(data['clean_text'])\n",
    "y = data['stars']\n",
    "\n",
    "X_train, X_test, y_train, y_test = train_test_split(X, y, test_size=0.2, random_state=1234, stratify=y)"
   ]
  },
  {
   "cell_type": "code",
   "execution_count": 138,
   "id": "18084f23",
   "metadata": {
    "scrolled": true
   },
   "outputs": [
    {
     "data": {
      "text/plain": [
       "LinearSVC()"
      ]
     },
     "execution_count": 138,
     "metadata": {},
     "output_type": "execute_result"
    }
   ],
   "source": [
    "star_clf = LinearSVC()\n",
    "star_clf.fit(X_train, y_train)"
   ]
  },
  {
   "cell_type": "code",
   "execution_count": 139,
   "id": "fb0ece7d",
   "metadata": {},
   "outputs": [],
   "source": [
    "star_clf_pred = star_clf.predict(X_test)"
   ]
  },
  {
   "cell_type": "code",
   "execution_count": 140,
   "id": "f0809b5d",
   "metadata": {
    "scrolled": false
   },
   "outputs": [
    {
     "name": "stdout",
     "output_type": "stream",
     "text": [
      "              precision    recall  f1-score   support\n",
      "\n",
      "           1       0.64      0.74      0.69       432\n",
      "           2       0.43      0.19      0.26       314\n",
      "           3       0.44      0.21      0.28       448\n",
      "           4       0.47      0.43      0.45      1026\n",
      "           5       0.69      0.86      0.76      1781\n",
      "\n",
      "    accuracy                           0.61      4001\n",
      "   macro avg       0.53      0.49      0.49      4001\n",
      "weighted avg       0.58      0.61      0.58      4001\n",
      "\n"
     ]
    }
   ],
   "source": [
    "print(classification_report(y_test, star_clf_pred))"
   ]
  },
  {
   "cell_type": "code",
   "execution_count": 170,
   "id": "bcca6b86",
   "metadata": {},
   "outputs": [],
   "source": [
    "from sklearn.linear_model import LinearRegression\n",
    "\n",
    "X = data['sentiment']\n",
    "y = data['stars']\n",
    "\n",
    "X_train, X_test, y_train, y_test = train_test_split(X, y, test_size=0.2, random_state=1234)"
   ]
  },
  {
   "cell_type": "code",
   "execution_count": 129,
   "id": "3d91ee57",
   "metadata": {
    "scrolled": true
   },
   "outputs": [
    {
     "data": {
      "text/plain": [
       "19848    0.6908\n",
       "15072    0.9524\n",
       "3764     0.7159\n",
       "15440    0.8969\n",
       "19697    0.9501\n",
       "          ...  \n",
       "8222     0.9106\n",
       "9449     0.9348\n",
       "8471     0.9694\n",
       "17048    0.9978\n",
       "1318     0.8860\n",
       "Name: sentiment, Length: 16000, dtype: float64"
      ]
     },
     "execution_count": 129,
     "metadata": {},
     "output_type": "execute_result"
    }
   ],
   "source": [
    "X_train"
   ]
  },
  {
   "cell_type": "code",
   "execution_count": 130,
   "id": "f27f1730",
   "metadata": {},
   "outputs": [
    {
     "data": {
      "text/plain": [
       "LinearRegression()"
      ]
     },
     "execution_count": 130,
     "metadata": {},
     "output_type": "execute_result"
    }
   ],
   "source": [
    "lr = LinearRegression()\n",
    "\n",
    "X_train = X_train.values.reshape(-1, 1)\n",
    "y_train = y_train.values.reshape(-1, 1)\n",
    "X_test = X_test.values.reshape(-1, 1)\n",
    "\n",
    "lr.fit(X_train, y_train)"
   ]
  },
  {
   "cell_type": "code",
   "execution_count": 121,
   "id": "999a584e",
   "metadata": {},
   "outputs": [],
   "source": [
    "lr_pred = lr.predict(X_test)"
   ]
  },
  {
   "cell_type": "code",
   "execution_count": 120,
   "id": "d86f6f07",
   "metadata": {
    "scrolled": true
   },
   "outputs": [
    {
     "data": {
      "text/plain": [
       "0.37129791198834317"
      ]
     },
     "execution_count": 120,
     "metadata": {},
     "output_type": "execute_result"
    }
   ],
   "source": [
    "lr.score(X_test,y_test)"
   ]
  },
  {
   "cell_type": "code",
   "execution_count": 135,
   "id": "d25b4aa2",
   "metadata": {},
   "outputs": [
    {
     "name": "stdout",
     "output_type": "stream",
     "text": [
      "intercept: [2.74271648]\n"
     ]
    }
   ],
   "source": [
    "print('intercept:', lr.intercept_)"
   ]
  }
 ],
 "metadata": {
  "kernelspec": {
   "display_name": "Python 3",
   "language": "python",
   "name": "python3"
  },
  "language_info": {
   "codemirror_mode": {
    "name": "ipython",
    "version": 3
   },
   "file_extension": ".py",
   "mimetype": "text/x-python",
   "name": "python",
   "nbconvert_exporter": "python",
   "pygments_lexer": "ipython3",
   "version": "3.8.8"
  }
 },
 "nbformat": 4,
 "nbformat_minor": 5
}
